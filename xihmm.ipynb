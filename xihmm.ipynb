{
 "cells": [
  {
   "cell_type": "markdown",
   "metadata": {
    "collapsed": true
   },
   "source": [
    "# Hidden Markov Model\n",
    "\n",
    "$\n",
    "\\def\\a{\\alpha}\n",
    "\\def\\g{\\gamma}\n",
    "\\def\\P{\\mathsf{P}}\n",
    "\\def\\RR{\\mathbb{R}}\n",
    "\\def\\idx#1{\\hat{#1}}\n",
    "\\def\\b{\\beta}\n",
    "\\def\\range#1#2{\\overline{#1:#2}}\n",
    "\\def\\L{\\mathcal{L}}\n",
    "\\def\\E{\\mathsf{E}}\n",
    "\\DeclareMathOperator*{\\argmax}{arg\\,max}\n",
    "\\def\\O{\\mathcal{O}}\n",
    "$"
   ]
  },
  {
   "cell_type": "markdown",
   "metadata": {},
   "source": [
    "## Global settings"
   ]
  },
  {
   "cell_type": "markdown",
   "metadata": {},
   "source": [
    "### Imports"
   ]
  },
  {
   "cell_type": "code",
   "execution_count": 231,
   "metadata": {
    "collapsed": true
   },
   "outputs": [],
   "source": [
    "import math\n",
    "from random import random, uniform\n",
    "from itertools import repeat\n",
    "from itertools import product as cart_prod\n",
    "from pprint import pprint, pformat\n",
    "from functools import reduce, partial\n",
    "import operator\n",
    "from copy import deepcopy\n",
    "import matplotlib\n",
    "import matplotlib.pyplot as plt\n",
    "import pandas as pd\n",
    "import numpy as np"
   ]
  },
  {
   "cell_type": "markdown",
   "metadata": {},
   "source": [
    "### Plotting"
   ]
  },
  {
   "cell_type": "code",
   "execution_count": 232,
   "metadata": {
    "collapsed": true
   },
   "outputs": [],
   "source": [
    "%matplotlib inline\n",
    "matplotlib.style.use('ggplot')\n",
    "\n",
    "plt.rcParams['savefig.dpi'] = 72\n",
    "plt.rcParams['figure.dpi'] = 72\n",
    "plt.rcParams['axes.labelsize'] = 12\n",
    "plt.rcParams['xtick.labelsize'] = 12  \n",
    "plt.rcParams['ytick.labelsize'] = 12 \n",
    "plt.rcParams['legend.fontsize'] = 12 \n",
    "plt.rcParams['font.family'] = 'serif'  \n",
    "plt.rcParams['font.serif'] = ['Computer Modern Roman']  \n",
    "plt.rcParams['text.usetex'] = True \n",
    "plt.rcParams['text.latex.unicode'] = True\n",
    "# plt.rcParams['figure.figsize'] = 5.2, 3.2   # 0.8\n",
    "# plt.rcParams['figure.figsize'] = 3.9, 2.4   # 0.6\n",
    "# plt.rcParams['figure.figsize'] = 2.9, 1.8   # 0.45\n",
    "plt.rcParams['figure.figsize'] = 4.5, 2.8   # 0.7\n",
    "plt.rcParams['text.latex.preamble'] = r'\\usepackage[utf8]{inputenc}'\n",
    "plt.rcParams['text.latex.preamble'] = r'\\usepackage[russian]{babel}'"
   ]
  },
  {
   "cell_type": "markdown",
   "metadata": {},
   "source": [
    "### Options"
   ]
  },
  {
   "cell_type": "code",
   "execution_count": 233,
   "metadata": {
    "collapsed": false
   },
   "outputs": [],
   "source": [
    "# 5: stacktrace\n",
    "# 6: calculations detailed to terms\n",
    "# 7: initial data\n",
    "# TODO: other\n",
    "VERBOSITY = 6\n",
    "# as the second argument to round()\n",
    "OUT_PREC = 3\n",
    "# for tree-like output\n",
    "OUT_INCR = '    '\n",
    "\n",
    "np.set_printoptions(precision=OUT_PREC, suppress=True)"
   ]
  },
  {
   "cell_type": "markdown",
   "metadata": {},
   "source": [
    "## Auxiliary data structures and functions"
   ]
  },
  {
   "cell_type": "code",
   "execution_count": 234,
   "metadata": {
    "collapsed": false
   },
   "outputs": [],
   "source": [
    "class LabeledList(list):\n",
    "    def __init__(self,  iterable, labels):\n",
    "        self.labels = labels\n",
    "        self.idx_dict = {labels[i] : i for i in range(len(labels))}\n",
    "        super().__init__(iterable)\n",
    "    def _label_to_idx_proxy(self, method_name, key, *args):\n",
    "        # allow raw int indices\n",
    "        if isinstance(key, int):\n",
    "            idx = key\n",
    "        else:\n",
    "            idx = self.idx_dict[key]\n",
    "        return getattr(super(), method_name)(idx, *args)\n",
    "    def __getitem__(self, key):\n",
    "        return self._label_to_idx_proxy('__getitem__', key)\n",
    "    def __setitem__(self, key, value):\n",
    "        return self._label_to_idx_proxy('__setitem__', key, value)\n",
    "    def __sub__(self, ll):\n",
    "        res = deepcopy(self)\n",
    "        for i in range(len(ll)):\n",
    "            res[i] -= ll[i]\n",
    "        return res\n",
    "#     def __add__(self, val):\n",
    "#         if isinstance(val, int):\n",
    "#             res = sum(self) + val\n",
    "#         else:\n",
    "#             res = deepcopy(self)\n",
    "#             for i in range(len(ll)):\n",
    "#                 res[i] += ll[i]\n",
    "#         return res\n",
    "    def get_sum(self):\n",
    "        if isinstance(self[0], LabeledList):\n",
    "            return sum(ll.get_sum() for ll in self)\n",
    "        else:\n",
    "            return sum(self)\n",
    "    def get_abs(self):\n",
    "        if isinstance(self[0], LabeledList):\n",
    "            return LabeledList((ll.get_abs() for ll in self), self.labels)\n",
    "        else:\n",
    "            return LabeledList((abs(el) for el in self), self.labels)\n",
    "    def get_max(self):\n",
    "        if isinstance(self[0], LabeledList):\n",
    "            return max(ll.get_max() for ll in self)\n",
    "        else:\n",
    "            return max(self)\n",
    "#     def __repr__(self):\n",
    "#         # ugly\n",
    "#         return np.array(self).__repr__()[6:-1].replace('      ', '')"
   ]
  },
  {
   "cell_type": "markdown",
   "metadata": {},
   "source": [
    "### (Tests)"
   ]
  },
  {
   "cell_type": "code",
   "execution_count": 235,
   "metadata": {
    "collapsed": false
   },
   "outputs": [
    {
     "name": "stdout",
     "output_type": "stream",
     "text": [
      "0.2\n",
      "[[0.2, 0.3, 0.3, 0.2], [0.3, 0.2, -0.8, 0.4]]\n",
      "0.3\n",
      "1.0999999999999999\n",
      "1.1999999999999997\n",
      "[0.0, 0.09999999999999998, 1.1, -0.2]\n",
      "[0.3, 0.3, 0.3, 0.2]\n",
      "[[0.0, 0.0, 0.0, 0.0], [0.0, 0.0, 0.0, 0.0]]\n",
      "[0.0, 0.09999999999999998, 1.1, 0.2]\n",
      "[[0.3, 0.3, 0.3, 0.2], [0.3, 0.2, 0.8, 0.4]]\n",
      "0.8\n"
     ]
    }
   ],
   "source": [
    "S = 'HL'\n",
    "Q = 'ACGT'\n",
    "B = [[0.2, 0.3, 0.3, 0.2],\n",
    "     [0.3, 0.2, -0.8, 0.4]]\n",
    "\n",
    "L1 = LabeledList(B[0], Q)\n",
    "L2 = LabeledList(B[1], Q)\n",
    "L = LabeledList([L1, L2], S)\n",
    "print(L['H']['A'])\n",
    "print(L)\n",
    "L['H']['A'] = 0.3\n",
    "print(L['H']['A'])\n",
    "# print(sum(L1))\n",
    "# L1 + 2\n",
    "print(L1.get_sum())\n",
    "print(L.get_sum())\n",
    "print(L1-L2)\n",
    "print(L1)\n",
    "print(L-L)\n",
    "print((L1-L2).get_abs())\n",
    "print(L.get_abs())\n",
    "print(L.get_abs().get_max())"
   ]
  },
  {
   "cell_type": "code",
   "execution_count": 236,
   "metadata": {
    "collapsed": true
   },
   "outputs": [],
   "source": [
    "def create_dataframe(M, labels_row, labels_col, op = lambda x: x):\n",
    "    return LabeledList([LabeledList(map(op, row), labels_col) for row in M],\n",
    "                       labels_row)\n",
    "\n",
    "# prod = partial(reduce, lambda x, y: x * y)\n",
    "def prod(seq):\n",
    "    return reduce(lambda x, y: x * y, seq, 1)\n",
    "\n",
    "def dbg(msg, verbosity=5, pp=False, **kwargs):\n",
    "    if verbosity <= VERBOSITY:\n",
    "        print_func = pprint if pp else print\n",
    "        print_func(msg, **kwargs)\n",
    "        \n",
    "def verbose_sum(X, out_offset=''):\n",
    "    result = sum(X)\n",
    "    if VERBOSITY >= 6:\n",
    "        print(out_offset + ' + '.join(str(round(x, OUT_PREC)) for x in X) + ' = ' + str(round(result, OUT_PREC)))\n",
    "    return result"
   ]
  },
  {
   "cell_type": "markdown",
   "metadata": {
    "collapsed": true
   },
   "source": [
    "## Initialization"
   ]
  },
  {
   "cell_type": "code",
   "execution_count": 237,
   "metadata": {
    "collapsed": true
   },
   "outputs": [],
   "source": [
    "class HMM(object):\n",
    "    pass"
   ]
  },
  {
   "cell_type": "markdown",
   "metadata": {},
   "source": [
    "### Initialize a noisy stochastic vector\n",
    "Let $$v:=c\\cdot\\left(\\frac{1}{n}+\\alpha_{i}\\right)_{i=0}^{n-1}.$$\n",
    "  Then $$\\sum_{i=0}^{n-1}v_{i}=1\\iff\\sum_{i=0}^{n-1}c\\cdot\\left(\\frac{1}{n}+\\alpha_{i}\\right)=1$$\n",
    "  holds iff $$c=\\frac{1}{\\sum_{i=0}^{n-1}\\left(1/n+\\alpha_{i}\\right)}=\\frac{1}{1+\\sum_{i=0}^{n-1}\\alpha_{i}}$$\n",
    " "
   ]
  },
  {
   "cell_type": "code",
   "execution_count": 238,
   "metadata": {
    "collapsed": false
   },
   "outputs": [],
   "source": [
    "def create_stochastic_vector(n, noise=2):\n",
    "    base = 1. / n\n",
    "    eps = 1. / n**noise\n",
    "    noise = [uniform(-eps, eps) for _ in range(n)]\n",
    "    norm_fact = 1 / (1 + sum(noise))\n",
    "    return [(base + noise[i]) * norm_fact for i in range(n)]\n",
    "\n",
    "def create_stochastic_matrix(m, n, noise=2):\n",
    "    return [create_stochastic_vector(n) for _ in range(m)]"
   ]
  },
  {
   "cell_type": "markdown",
   "metadata": {},
   "source": [
    "### (Tests)"
   ]
  },
  {
   "cell_type": "code",
   "execution_count": 239,
   "metadata": {
    "collapsed": false
   },
   "outputs": [
    {
     "name": "stdout",
     "output_type": "stream",
     "text": [
      "[0.16878103390931656,\n",
      " 0.1747664608633351,\n",
      " 0.02093240945028239,\n",
      " 0.01050294990230636,\n",
      " 0.1344585658008367,\n",
      " 0.1612928477787954,\n",
      " 0.08789231492921762,\n",
      " 0.03251492171261746,\n",
      " 0.09328993737775981,\n",
      " 0.11556855827553252]\n",
      "0.9999999999999999\n"
     ]
    },
    {
     "data": {
      "text/plain": [
       "[[0.35038006168261004, 0.34538949741320185, 0.304230440904188],\n",
       " [0.3556127127439395, 0.3293390745058375, 0.31504821275022304]]"
      ]
     },
     "execution_count": 239,
     "metadata": {},
     "output_type": "execute_result"
    }
   ],
   "source": [
    "v = create_stochastic_vector(10, noise=1)\n",
    "pprint(v)\n",
    "print(sum(v))\n",
    "\n",
    "M = create_stochastic_matrix(2, 3)\n",
    "M"
   ]
  },
  {
   "cell_type": "code",
   "execution_count": 240,
   "metadata": {
    "collapsed": false
   },
   "outputs": [],
   "source": [
    "def __init__(self,\n",
    "        S: \"hidden state labels\",\n",
    "        Q: \"observation labels\",\n",
    "        priors: r'P(\\xi_0 = s_i)' = None,\n",
    "        A: r'P(\\xi_t = s_j | \\xi_{t-1} = s_i) state transition matrix' = None,\n",
    "        B: r'P(\\eta_t = q_k | \\xi_t = s_i) observation matrix' = None,\n",
    "        noise = 2):\n",
    "    \"\"\"Initialize HMM.\n",
    "\n",
    "    If any of the priors vector, A or B matrices aren't provided,\n",
    "    they are initialized with a suitable row-stochastic vector / matrix.\n",
    "    \"\"\"\n",
    "    \n",
    "    self.S = S\n",
    "    self.Q = Q\n",
    "\n",
    "    if not priors:\n",
    "        priors = create_stochastic_vector(len(S), noise=noise)\n",
    "    self.priors = LabeledList(priors, S)\n",
    "    \n",
    "    if not A:\n",
    "        A = create_stochastic_matrix(len(S), len(S), noise=noise)\n",
    "    self.A = create_dataframe(A, S, S)\n",
    "    \n",
    "    if not B:\n",
    "        B = create_stochastic_matrix(len(S), len(Q), noise=noise)\n",
    "    self.B = create_dataframe(B, S, Q)\n",
    "    \n",
    "    self.create_log_matrices()\n",
    "\n",
    "def __repr__(self):\n",
    "    return reduce(lambda x, y: x + '\\n' + y,\n",
    "                  (pformat(obj) for obj in [self.priors, self.A, self.B]))\n",
    "\n",
    "def init_mem(self, name, t, dim=1, init_val=0):\n",
    "    create_ll = lambda elem, labels: LabeledList([deepcopy(elem) for _ in range(len(self.S))], labels)\n",
    "    self.mem[name] = [reduce(create_ll, [self.S] * dim, init_val)\n",
    "                      for _ in range(t)]\n",
    "        \n",
    "    \n",
    "def create_log_matrices(self):\n",
    "    # to be used in viterbi\n",
    "    log2_safe = lambda x: math.log2(x) if x != 0 else float('-inf')\n",
    "    self.priors_log = LabeledList(map(log2_safe, self.priors), self.S)\n",
    "    self.A_log = create_dataframe(self.A, self.S, self.S, log2_safe)\n",
    "    self.B_log = create_dataframe(self.B, self.S, self.Q, log2_safe)\n",
    "\n",
    "HMM.__init__ = __init__\n",
    "HMM.__repr__ = __repr__\n",
    "HMM.init_mem = init_mem\n",
    "HMM.mem = {}\n",
    "HMM.create_log_matrices = create_log_matrices"
   ]
  },
  {
   "cell_type": "markdown",
   "metadata": {},
   "source": [
    "### (Tests)"
   ]
  },
  {
   "cell_type": "code",
   "execution_count": 241,
   "metadata": {
    "collapsed": false
   },
   "outputs": [
    {
     "name": "stdout",
     "output_type": "stream",
     "text": [
      "[0.5, 0.5]\n",
      "[[0.5, 0.5], [0.4, 0.6]]\n",
      "[[0.2, 0.3, 0.3, 0.2], [0.0, 0.2, 0.0, 0.8]]\n",
      "\n",
      "[-1.0, -1.0]\n",
      "[[-2.321928094887362, -1.736965594166206, -1.736965594166206, -2.321928094887362], [-inf, -2.321928094887362, -inf, -0.3219280948873623]]\n",
      "\n",
      "[0.49442568937587383, 0.5055743106241262]\n",
      "[[0.44290601991542944, 0.5570939800845706],\n",
      " [0.5333224360642796, 0.4666775639357202]]\n",
      "[[0.20330900000014282,\n",
      "  0.20738837385636763,\n",
      "  0.3053084442463425,\n",
      "  0.2839941818971472],\n",
      " [0.29888006158001634,\n",
      "  0.20093286730355267,\n",
      "  0.20049425427789622,\n",
      "  0.2996928168385347]]\n",
      "\n",
      "[[0, 0], [0, 0], [0, 0], [0, 0], [0, 0], [0, 0], [0, 0], [0, 0], [0, 0], [0, 0]]\n",
      "[[[0, 0], [0, 0]],\n",
      " [[0, 0], [0, 0]],\n",
      " [[0, 0], [0, 0]],\n",
      " [[0, 0], [0, 0]],\n",
      " [[0, 0], [0, 0]],\n",
      " [[0, 0], [0, 0]],\n",
      " [[0, 0], [0, 0]],\n",
      " [[0, 0], [0, 0]],\n",
      " [[0, 0], [0, 0]],\n",
      " [[0, 0], [0, 0]]]\n",
      "[[[1, 2], [0, 0]],\n",
      " [[0, 0], [0, 0]],\n",
      " [[0, 0], [0, 0]],\n",
      " [[0, 0], [0, 0]],\n",
      " [[0, 0], [0, 0]],\n",
      " [[0, 0], [0, 0]],\n",
      " [[0, 0], [0, 0]],\n",
      " [[0, 0], [0, 0]],\n",
      " [[0, 0], [0, 0]],\n",
      " [[0, 0], [0, 0]]]\n"
     ]
    }
   ],
   "source": [
    "S = 'HL'\n",
    "Q = 'ACGT'\n",
    "\n",
    "priors = [0.5, 0.5]\n",
    "A = [[0.5, 0.5],\n",
    "     [0.4, 0.6]]\n",
    "B = [[0.2, 0.3, 0.3, 0.2],\n",
    "     [0.0, 0.2, 0.0, 0.8]]\n",
    "\n",
    "hmm = HMM(S, Q, priors, A, B)\n",
    "print(hmm)\n",
    "print()\n",
    "print(hmm.priors_log)\n",
    "print(hmm.B_log)\n",
    "print()\n",
    "hmm = HMM(S, Q)\n",
    "print(hmm)\n",
    "print()\n",
    "\n",
    "hmm.init_mem('alpha', 10)\n",
    "print(hmm.mem['alpha'])\n",
    "\n",
    "hmm.init_mem('gamma', 10, dim=2)\n",
    "pprint(hmm.mem['gamma'])\n",
    "hmm.mem['gamma'][0][0][0] = 1\n",
    "hmm.mem['gamma'][0][0][1] = 2\n",
    "pprint(hmm.mem['gamma'])"
   ]
  },
  {
   "cell_type": "markdown",
   "metadata": {},
   "source": [
    "## Observation probabilities\n",
    "\n",
    "For a given observation sequence $Y$, find its probability $\\P(Y)$."
   ]
  },
  {
   "cell_type": "markdown",
   "metadata": {},
   "source": [
    "### Naive approach\n",
    "\n",
    "$$\\begin{eqnarray*}\n",
    "\\P(Y) & = & \\P\\left(\\bigvee_{X}\\left(X\\cap Y\\right)\\right)=\\sum_{X}\\P(XY)=\\sum_{X}\\left(\\P(Y\\mid X)\\cdot\\P(X)\\right)\\\\\n",
    " & = & \\sum_{X}\\left(\\P(Y_{0}\\mid X_{0})\\P(X_{0})\\prod_{t=1}^{T-1}\\P(Y_{t}\\mid X_{t})\\P(X_{t}\\mid X_{t-1})\\right).\n",
    "\\end{eqnarray*}$$\n",
    "\n",
    "Complexity: $\\O(2TN^T)$    "
   ]
  },
  {
   "cell_type": "code",
   "execution_count": 242,
   "metadata": {
    "collapsed": true
   },
   "outputs": [],
   "source": [
    "def pr_YX(self, Y, X):\n",
    "    return self.B[X[0]][Y[0]] * self.priors[X[0]] * \\\n",
    "            prod(self.B[X[t]][Y[t]] * self.A[X[t-1]][X[t]]\n",
    "                 for t in range(1, len(Y)))\n",
    "\n",
    "def pr_Y_naive(self, Y):\n",
    "    return sum(self.pr_YX(Y, X)\n",
    "       for X in cart_prod(self.S, repeat=len(Y)))\n",
    "\n",
    "HMM.pr_YX = pr_YX\n",
    "HMM.pr_Y_naive = pr_Y_naive"
   ]
  },
  {
   "cell_type": "markdown",
   "metadata": {},
   "source": [
    "### Example due to Stamp (2012)"
   ]
  },
  {
   "cell_type": "code",
   "execution_count": 243,
   "metadata": {
    "collapsed": true
   },
   "outputs": [],
   "source": [
    "S = ['H', 'C']          # Annual temperatures: hot, cold\n",
    "Q = ['S', 'M', 'L']     # Size of tree growth rings: small, medium, large\n",
    "priors = [0.6, 0.4]\n",
    "A = [[0.7, 0.3],\n",
    "     [0.4, 0.6],]\n",
    "B = [[0.1, 0.4, 0.5],\n",
    "     [0.7, 0.2, 0.1],]\n",
    "\n",
    "hmm_stamp = HMM(S, Q, priors, A, B)"
   ]
  },
  {
   "cell_type": "code",
   "execution_count": 244,
   "metadata": {
    "collapsed": false
   },
   "outputs": [
    {
     "data": {
      "text/plain": [
       "[('H', 'H', 'H', 'H'),\n",
       " ('H', 'H', 'H', 'C'),\n",
       " ('H', 'H', 'C', 'H'),\n",
       " ('H', 'H', 'C', 'C'),\n",
       " ('H', 'C', 'H', 'H'),\n",
       " ('H', 'C', 'H', 'C'),\n",
       " ('H', 'C', 'C', 'H'),\n",
       " ('H', 'C', 'C', 'C'),\n",
       " ('C', 'H', 'H', 'H'),\n",
       " ('C', 'H', 'H', 'C'),\n",
       " ('C', 'H', 'C', 'H'),\n",
       " ('C', 'H', 'C', 'C'),\n",
       " ('C', 'C', 'H', 'H'),\n",
       " ('C', 'C', 'H', 'C'),\n",
       " ('C', 'C', 'C', 'H'),\n",
       " ('C', 'C', 'C', 'C')]"
      ]
     },
     "execution_count": 244,
     "metadata": {},
     "output_type": "execute_result"
    }
   ],
   "source": [
    "Y = ('S', 'M', 'S', 'L')\n",
    "list(cart_prod(S, repeat=len(Y)))"
   ]
  },
  {
   "cell_type": "code",
   "execution_count": 246,
   "metadata": {
    "collapsed": false
   },
   "outputs": [
    {
     "name": "stdout",
     "output_type": "stream",
     "text": [
      "0.009629599999999999\n"
     ]
    }
   ],
   "source": [
    "print(hmm_stamp.pr_Y_naive(Y))"
   ]
  },
  {
   "cell_type": "markdown",
   "metadata": {},
   "source": [
    "### Forward algorithm\n",
    "\n",
    "$$\\P(Y)=\\sum_{s\\in S}\\a_{T-1}(s)$$ where $$\\begin{eqnarray*}\n",
    "\\a_{t}(s) & = & \\P(Y_{0}\\ldots Y_{t},\\xi_{t}=s)\\\\\n",
    " & = & B_{\\idx s\\idx y_{t}}\\sum_{r\\in S}A_{\\idx r\\idx s}\\a_{t-1}(r),\\quad t\\in\\range 1{T-1}\\\\\n",
    "\\a_{0}(s) & = & B_{\\idx s\\idx y_{0}}\\pi_{\\idx s}.\n",
    "\\end{eqnarray*}$$\n",
    "\n",
    "Complexity: $\\O(N^2T)$\n",
    "\n",
    "If `with_scaling`, also compute $\\mathbf{c}=c_0,\\dots,c_{T-1},$ where $$c_{t}:=\\frac{1}{\\sum_{r\\in S}\\tilde{\\a}_{t}(r)},$$ and scale every $\\a_t$ as \\begin{eqnarray*}\n",
    "\\bar{\\a}_{t}(s) & := & \\tilde{\\a}_{t}(s)\\cdot c_{t}\\\\\n",
    "\\tilde{\\a}_{t}(s) & := & B_{\\idx s\\idx y_{t}}\\sum_{r\\in S}A_{\\idx r\\idx s}\\bar{\\a}_{t-1}(r)\n",
    "\\end{eqnarray*}"
   ]
  },
  {
   "cell_type": "code",
   "execution_count": 247,
   "metadata": {
    "collapsed": true
   },
   "outputs": [],
   "source": [
    "def alpha(self, Y, with_scaling=False):\n",
    "    self.init_mem('alpha', len(Y))\n",
    "    a = self.mem['alpha']\n",
    "    if with_scaling:\n",
    "        self.mem['c'] = [0] * len(Y)\n",
    "        c = self.mem['c']\n",
    "    # Compute \\alpha_0 (s) \\forall s \\in S\n",
    "    for s in self.S:\n",
    "        a[0][s] = self.priors[s] * self.B[s][Y[0]]\n",
    "        if with_scaling:\n",
    "            c[0] += a[0][s]\n",
    "    # Scale alpha_0\n",
    "    if with_scaling:\n",
    "        c[0] = 1 / c[0]\n",
    "        for s in self.S:\n",
    "            a[0][s] *= c[0]\n",
    "    # Compute \\alpha_t(s) \\forall s \\in S\n",
    "    for t in range(1, len(Y)):\n",
    "        for s in self.S:\n",
    "            for r in self.S:\n",
    "                a[t][s] += self.A[r][s] * a[t-1][r]\n",
    "            a[t][s] *= self.B[s][Y[t]]\n",
    "            if with_scaling:\n",
    "                c[t] += a[t][s]\n",
    "        # Scale \\alpha_t\n",
    "        if with_scaling:\n",
    "            c[t] = 1 / c[t]\n",
    "            for s in self.S:\n",
    "                a[t][s] *= c[t]\n",
    "\n",
    "HMM.alpha = alpha"
   ]
  },
  {
   "cell_type": "code",
   "execution_count": 248,
   "metadata": {
    "collapsed": true
   },
   "outputs": [],
   "source": [
    "def pr_Y_forward(self, Y, with_scaling=False):\n",
    "    self.alpha(Y, with_scaling)\n",
    "    return sum(self.mem['alpha'][-1])\n",
    "\n",
    "HMM.pr_Y_forward = pr_Y_forward"
   ]
  },
  {
   "cell_type": "code",
   "execution_count": 249,
   "metadata": {
    "collapsed": false
   },
   "outputs": [],
   "source": [
    "def pr_Y(self, Y, algorithm='forward', with_scaling=False):\n",
    "    if algorithm == 'naive':\n",
    "        return self.pr_Y_naive(Y)\n",
    "    elif algorithm == 'forward':\n",
    "        return self.pr_Y_forward(Y, with_scaling)\n",
    "\n",
    "HMM.pr_Y = pr_Y"
   ]
  },
  {
   "cell_type": "code",
   "execution_count": 250,
   "metadata": {
    "collapsed": false
   },
   "outputs": [
    {
     "name": "stdout",
     "output_type": "stream",
     "text": [
      "0.009629599999999997\n"
     ]
    }
   ],
   "source": [
    "print(hmm_stamp.pr_Y_forward(Y))"
   ]
  },
  {
   "cell_type": "code",
   "execution_count": 251,
   "metadata": {
    "collapsed": false
   },
   "outputs": [
    {
     "name": "stdout",
     "output_type": "stream",
     "text": [
      "{'alpha': [[0.06, 0.27999999999999997], [0.06159999999999999, 0.0372], [0.0058, 0.02855999999999999], [0.007741999999999998, 0.0018875999999999995]], 'gamma': [[[1, 2], [0, 0]], [[0, 0], [0, 0]], [[0, 0], [0, 0]], [[0, 0], [0, 0]], [[0, 0], [0, 0]], [[0, 0], [0, 0]], [[0, 0], [0, 0]], [[0, 0], [0, 0]], [[0, 0], [0, 0]], [[0, 0], [0, 0]]]}\n",
      "0.06\n"
     ]
    }
   ],
   "source": [
    "Y = ('S', 'M', 'S', 'L')\n",
    "print(hmm_stamp.mem)\n",
    "print(hmm_stamp.mem['alpha'][0]['H'])"
   ]
  },
  {
   "cell_type": "code",
   "execution_count": 252,
   "metadata": {
    "collapsed": false
   },
   "outputs": [
    {
     "name": "stdout",
     "output_type": "stream",
     "text": [
      "{'alpha': [[0.24, 0.08000000000000002]], 'gamma': [[[1, 2], [0, 0]], [[0, 0], [0, 0]], [[0, 0], [0, 0]], [[0, 0], [0, 0]], [[0, 0], [0, 0]], [[0, 0], [0, 0]], [[0, 0], [0, 0]], [[0, 0], [0, 0]], [[0, 0], [0, 0]], [[0, 0], [0, 0]]]}\n"
     ]
    }
   ],
   "source": [
    "Y = ('M')\n",
    "hmm_stamp.alpha(Y)\n",
    "print(hmm_stamp.mem)"
   ]
  },
  {
   "cell_type": "code",
   "execution_count": 253,
   "metadata": {
    "collapsed": false
   },
   "outputs": [
    {
     "name": "stdout",
     "output_type": "stream",
     "text": [
      "0.009629599999999997\n",
      "0.009629599999999999\n",
      "0.33999999999999997\n",
      "0.33999999999999997\n"
     ]
    }
   ],
   "source": [
    "Y = ('S', 'M', 'S', 'L') \n",
    "print(hmm_stamp.pr_Y(Y, 'forward'))\n",
    "print(hmm_stamp.pr_Y(Y, 'naive'))\n",
    "\n",
    "Y = ('S') \n",
    "print(hmm_stamp.pr_Y(Y, 'forward'))\n",
    "print(hmm_stamp.pr_Y(Y, 'naive'))"
   ]
  },
  {
   "cell_type": "code",
   "execution_count": 254,
   "metadata": {
    "collapsed": false
   },
   "outputs": [
    {
     "name": "stdout",
     "output_type": "stream",
     "text": [
      "Initialized this HMM: \n",
      "[0.6, 0.4]\n",
      "[[0.7, 0.3], [0.4, 0.6]]\n",
      "[[0.1, 0.4, 0.5], [0.7, 0.2, 0.1]]\n",
      "\n",
      "Observation probabilities using naive algorithm\n",
      "('S', 'S', 'S'): 0.06420399999999998\n",
      "('S', 'S', 'M'): 0.04169199999999999\n",
      "('S', 'S', 'L'): 0.039703999999999996\n",
      "('S', 'M', 'S'): 0.034359999999999995\n",
      "('S', 'M', 'M'): 0.03136\n",
      "('S', 'M', 'L'): 0.03308\n",
      "('S', 'L', 'S'): 0.030115999999999997\n",
      "('S', 'L', 'M'): 0.03138799999999999\n",
      "('S', 'L', 'L'): 0.034096\n",
      "('M', 'S', 'S'): 0.044239999999999995\n",
      "('M', 'S', 'M'): 0.030320000000000003\n",
      "('M', 'S', 'L'): 0.029439999999999997\n",
      "('M', 'M', 'S'): 0.03343999999999999\n",
      "('M', 'M', 'M'): 0.03392\n",
      "('M', 'M', 'L'): 0.03664\n",
      "('M', 'L', 'S'): 0.033519999999999994\n",
      "('M', 'L', 'M'): 0.03736\n",
      "('M', 'L', 'L'): 0.041120000000000004\n",
      "('L', 'S', 'S'): 0.043036\n",
      "('L', 'S', 'M'): 0.030027999999999996\n",
      "('L', 'S', 'L'): 0.029336\n",
      "('L', 'M', 'S'): 0.035799999999999985\n",
      "('L', 'M', 'M'): 0.03712\n",
      "('L', 'M', 'L'): 0.040279999999999996\n",
      "('L', 'L', 'S'): 0.03688399999999999\n",
      "('L', 'L', 'M'): 0.041611999999999996\n",
      "('L', 'L', 'L'): 0.04590399999999999\n",
      "Total probability: 1.000000\n",
      "Winner: ('S', 'S', 'S')\n",
      "\n",
      "Observation probabilities using forward algorithm\n",
      "('S', 'S', 'S'): 0.06420399999999998\n",
      "('S', 'S', 'M'): 0.04169199999999999\n",
      "('S', 'S', 'L'): 0.039703999999999996\n",
      "('S', 'M', 'S'): 0.03435999999999999\n",
      "('S', 'M', 'M'): 0.03136\n",
      "('S', 'M', 'L'): 0.03307999999999999\n",
      "('S', 'L', 'S'): 0.030115999999999993\n",
      "('S', 'L', 'M'): 0.031388\n",
      "('S', 'L', 'L'): 0.034095999999999994\n",
      "('M', 'S', 'S'): 0.044239999999999995\n",
      "('M', 'S', 'M'): 0.03032\n",
      "('M', 'S', 'L'): 0.029439999999999997\n",
      "('M', 'M', 'S'): 0.03344\n",
      "('M', 'M', 'M'): 0.03392\n",
      "('M', 'M', 'L'): 0.03664\n",
      "('M', 'L', 'S'): 0.033519999999999994\n",
      "('M', 'L', 'M'): 0.03736\n",
      "('M', 'L', 'L'): 0.04112\n",
      "('L', 'S', 'S'): 0.043036\n",
      "('L', 'S', 'M'): 0.030028000000000003\n",
      "('L', 'S', 'L'): 0.029336\n",
      "('L', 'M', 'S'): 0.0358\n",
      "('L', 'M', 'M'): 0.03712\n",
      "('L', 'M', 'L'): 0.04028\n",
      "('L', 'L', 'S'): 0.036884\n",
      "('L', 'L', 'M'): 0.041612\n",
      "('L', 'L', 'L'): 0.045904\n",
      "Total probability: 1.000000\n",
      "Winner: ('S', 'S', 'S')\n",
      "\n"
     ]
    }
   ],
   "source": [
    "print(\"Initialized this HMM: \")\n",
    "print(hmm_stamp)\n",
    "print()\n",
    "\n",
    "for algorithm in ('naive', 'forward'):\n",
    "    print('Observation probabilities using %s algorithm' % algorithm)\n",
    "    total_pr = 0\n",
    "    max_prob = 0\n",
    "    winner = []\n",
    "    for Y in cart_prod(Q, repeat=3):\n",
    "        p = hmm_stamp.pr_Y(Y, algorithm=algorithm)\n",
    "        if p > max_prob:\n",
    "            max_prob = p\n",
    "            winner = Y\n",
    "        print('%s: %s' % (Y, p))\n",
    "        total_pr += p\n",
    "\n",
    "    print(\"Total probability: %f\" % total_pr)\n",
    "    print(\"Winner: \", end='')\n",
    "    print(winner)\n",
    "    print()"
   ]
  },
  {
   "cell_type": "markdown",
   "metadata": {},
   "source": [
    "## Uncovering hidden states\n",
    "\n",
    "For a given observation sequence $Y$, find its corresponding hidden states $X^*$ so that $$\\argmax_X \\P(X\\mid Y) = X^*$$"
   ]
  },
  {
   "cell_type": "markdown",
   "metadata": {},
   "source": [
    "### Brute force\n",
    "\n",
    "Compute $\\P(XY)$ over all possible state sequencies $X$ given $Y$.  Choose $X$ as the winner such that it maximizes $\\P(XY)$."
   ]
  },
  {
   "cell_type": "code",
   "execution_count": 255,
   "metadata": {
    "collapsed": true
   },
   "outputs": [],
   "source": [
    "def compute_total_prob_table(self, Y):\n",
    "    prob_table = {}\n",
    "    for X in cart_prod(self.S, repeat=len(Y)):\n",
    "        prob_table[''.join(X)] = self.pr_YX(Y, X)\n",
    "    # exactly pr_Y(Y)\n",
    "    norm_factor = sum(prob_table.values())\n",
    "    for key in prob_table:\n",
    "        prob_table[key] = (prob_table[key], prob_table[key] / norm_factor)\n",
    "    dbg('Prob. table:')\n",
    "    dbg(prob_table, pp=True)\n",
    "    return prob_table\n",
    "\n",
    "def uncover_bruteforce(self, Y):\n",
    "    prob_table = self.compute_total_prob_table(Y)\n",
    "    fmt = ' %%%ss | %%8s | %%10s ' % len(Y)\n",
    "    print(fmt % ('X', 'P(XY)', 'P(XY)/P(Y)'))\n",
    "    for X, prob in sorted(prob_table.items(), key=lambda item: item[0]):\n",
    "            print(\" %s | %f | %f \" % (X, prob[0], prob[1]))\n",
    "    opt_X, max_prob = max(prob_table.items(), key=lambda item: item[1][1])\n",
    "    max_prob = max_prob[1]\n",
    "    return (opt_X, max_prob)\n",
    "\n",
    "HMM.compute_total_prob_table = compute_total_prob_table\n",
    "HMM.uncover_bruteforce = uncover_bruteforce"
   ]
  },
  {
   "cell_type": "code",
   "execution_count": 256,
   "metadata": {
    "collapsed": false,
    "scrolled": false
   },
   "outputs": [
    {
     "name": "stdout",
     "output_type": "stream",
     "text": [
      "Prob. table:\n",
      "{'CCCC': (0.0008467199999999997, 0.08792888593503363),\n",
      " 'CCCH': (0.002822399999999999, 0.2930962864501121),\n",
      " 'CCHC': (4.032e-05, 0.004187089806430174),\n",
      " 'CCHH': (0.0004704, 0.0488493810750187),\n",
      " 'CHCC': (0.00056448, 0.058619257290022445),\n",
      " 'CHCH': (0.0018816000000000002, 0.19539752430007482),\n",
      " 'CHHC': (9.408e-05, 0.009769876215003739),\n",
      " 'CHHH': (0.0010976, 0.11398188917504364),\n",
      " 'HCCC': (9.071999999999997e-05, 0.00942095206446789),\n",
      " 'HCCH': (0.0003023999999999999, 0.0314031735482263),\n",
      " 'HCHC': (4.32e-06, 0.00044861676497466157),\n",
      " 'HCHH': (5.04e-05, 0.005233862258037718),\n",
      " 'HHCC': (0.00021167999999999995, 0.02198222148375841),\n",
      " 'HHCH': (0.0007055999999999999, 0.07327407161252804),\n",
      " 'HHHC': (3.5279999999999994e-05, 0.003663703580626402),\n",
      " 'HHHH': (0.00041159999999999987, 0.04274320844064135)}\n",
      "    X |    P(XY) | P(XY)/P(Y) \n",
      " CCCC | 0.000847 | 0.087929 \n",
      " CCCH | 0.002822 | 0.293096 \n",
      " CCHC | 0.000040 | 0.004187 \n",
      " CCHH | 0.000470 | 0.048849 \n",
      " CHCC | 0.000564 | 0.058619 \n",
      " CHCH | 0.001882 | 0.195398 \n",
      " CHHC | 0.000094 | 0.009770 \n",
      " CHHH | 0.001098 | 0.113982 \n",
      " HCCC | 0.000091 | 0.009421 \n",
      " HCCH | 0.000302 | 0.031403 \n",
      " HCHC | 0.000004 | 0.000449 \n",
      " HCHH | 0.000050 | 0.005234 \n",
      " HHCC | 0.000212 | 0.021982 \n",
      " HHCH | 0.000706 | 0.073274 \n",
      " HHHC | 0.000035 | 0.003664 \n",
      " HHHH | 0.000412 | 0.042743 \n"
     ]
    },
    {
     "data": {
      "text/plain": [
       "('CCCH', 0.2930962864501121)"
      ]
     },
     "execution_count": 256,
     "metadata": {},
     "output_type": "execute_result"
    }
   ],
   "source": [
    "Y = ('S', 'M', 'S', 'L')\n",
    "hmm_stamp.uncover_bruteforce(Y)"
   ]
  },
  {
   "cell_type": "markdown",
   "metadata": {},
   "source": [
    "### Forward-backward demo\n",
    "\n",
    "At each step t, choose $x_{t}^{*}\\in S$ such that $$x_{t}^{*}=\\argmax_{X:\\xi_{t}=x_{t}^{*}}\\P(XY)$$\n",
    " "
   ]
  },
  {
   "cell_type": "code",
   "execution_count": 257,
   "metadata": {
    "collapsed": true
   },
   "outputs": [],
   "source": [
    "def uncover_fb_demo(self, Y):\n",
    "    prob_table = self.compute_total_prob_table(Y)\n",
    "    max_prob_states = [0] * len(Y)\n",
    "    print('Sum of probabilities of the sequences:')\n",
    "    for t in range(len(Y)):\n",
    "        max_prob = 0\n",
    "        for s in self.S:\n",
    "            prob = sum(pr[0] for (X, pr) in prob_table.items() if X[t] == s)\n",
    "            print(\"%s: %f\" % (t * '*' + s + (len(Y)-t-1) * '*', prob))\n",
    "            if prob > max_prob:\n",
    "                max_prob = prob\n",
    "                max_prob_states[t] = s\n",
    "        print('Max (t = %d): %s' % (t, max_prob_states[t]))\n",
    "    opt_X = ''.join(max_prob_states)\n",
    "    max_prob = prob_table[opt_X][1]\n",
    "    return (opt_X, max_prob)\n",
    "\n",
    "HMM.uncover_fb_demo = uncover_fb_demo"
   ]
  },
  {
   "cell_type": "code",
   "execution_count": 258,
   "metadata": {
    "collapsed": false
   },
   "outputs": [
    {
     "name": "stdout",
     "output_type": "stream",
     "text": [
      "Prob. table:\n",
      "{'CCCC': (0.0008467199999999997, 0.08792888593503363),\n",
      " 'CCCH': (0.002822399999999999, 0.2930962864501121),\n",
      " 'CCHC': (4.032e-05, 0.004187089806430174),\n",
      " 'CCHH': (0.0004704, 0.0488493810750187),\n",
      " 'CHCC': (0.00056448, 0.058619257290022445),\n",
      " 'CHCH': (0.0018816000000000002, 0.19539752430007482),\n",
      " 'CHHC': (9.408e-05, 0.009769876215003739),\n",
      " 'CHHH': (0.0010976, 0.11398188917504364),\n",
      " 'HCCC': (9.071999999999997e-05, 0.00942095206446789),\n",
      " 'HCCH': (0.0003023999999999999, 0.0314031735482263),\n",
      " 'HCHC': (4.32e-06, 0.00044861676497466157),\n",
      " 'HCHH': (5.04e-05, 0.005233862258037718),\n",
      " 'HHCC': (0.00021167999999999995, 0.02198222148375841),\n",
      " 'HHCH': (0.0007055999999999999, 0.07327407161252804),\n",
      " 'HHHC': (3.5279999999999994e-05, 0.003663703580626402),\n",
      " 'HHHH': (0.00041159999999999987, 0.04274320844064135)}\n",
      "Sum of probabilities of the sequences:\n",
      "H***: 0.001812\n",
      "C***: 0.007818\n",
      "Max (t = 0): C\n",
      "*H**: 0.005002\n",
      "*C**: 0.004628\n",
      "Max (t = 1): H\n",
      "**H*: 0.002204\n",
      "**C*: 0.007426\n",
      "Max (t = 2): C\n",
      "***H: 0.007742\n",
      "***C: 0.001888\n",
      "Max (t = 3): H\n"
     ]
    },
    {
     "data": {
      "text/plain": [
       "('CHCH', 0.19539752430007482)"
      ]
     },
     "execution_count": 258,
     "metadata": {},
     "output_type": "execute_result"
    }
   ],
   "source": [
    "hmm_stamp.uncover_fb_demo(Y)"
   ]
  },
  {
   "cell_type": "markdown",
   "metadata": {},
   "source": [
    "### Forward-backward\n",
    "\n",
    "Let $$\\g_{t}(s)=\\P\\left(\\xi_{t}=s\\mid Y\\right)=\\frac{\\P(\\xi_{t}=s,Y)}{\\P(Y)}=\\frac{\\a_{t}(s)\\b_{t}(s)}{\\P(Y)}$$ where $\\b_{t}(s)=\\P(Y_{t+1}\\cdots Y_{T-1}\\mid\\xi_{t}=s)$ and is computed as\n",
    "$$\\begin{eqnarray*}\n",
    "\\b_{t}(s) & = & \\sum_{r\\in S}\\b_{t+1}(r)B_{\\idx r\\idx y_{t+1}}A_{\\idx s\\idx r},\\quad\\forall t\\in\\range 0{T-2}\\\\\n",
    "\\b_{T-1}(s) & = & 1.\n",
    "\\end{eqnarray*}$$\n",
    "\n",
    "Then choose $X^*$ such that $$X^{*}=(x_{0},\\ldots,x_{T-1}:x_{t}=\\argmax_{s\\in S}\\gamma_{t}(s),\\quad t\\in\\range 0{T-1}).$$\n",
    " \n"
   ]
  },
  {
   "cell_type": "code",
   "execution_count": 259,
   "metadata": {
    "collapsed": true
   },
   "outputs": [],
   "source": [
    "def beta(self, Y, scale=False):\n",
    "    self.init_mem('beta', len(Y));\n",
    "    b = self.mem['beta']\n",
    "    if scale:\n",
    "        c = self.mem['c']\n",
    "    for s in self.S:\n",
    "        b[len(Y)-1][s] = 1 if not scale else c[len(Y)-1]\n",
    "    for t in reversed(range(len(Y)-1)):\n",
    "        for s in self.S:\n",
    "            for r in self.S:\n",
    "                b[t][s] += self.A[s][r] * self.B[r][Y[t+1]] * b[t+1][r]\n",
    "#             b[t][s] = sum(b[t+1][r] * self.B[r][Y[t+1]] * self.A[s][r]\n",
    "#                           for r in self.S)\n",
    "            if scale:\n",
    "                b[t][s] *= c[t]\n",
    "\n",
    "HMM.beta = beta"
   ]
  },
  {
   "cell_type": "code",
   "execution_count": 260,
   "metadata": {
    "collapsed": false
   },
   "outputs": [
    {
     "name": "stdout",
     "output_type": "stream",
     "text": [
      "[[0.030199999999999998, 0.02792], [0.0812, 0.12440000000000001], [0.38, 0.26], [1, 1]]\n"
     ]
    }
   ],
   "source": [
    "hmm_stamp.beta(Y)\n",
    "print(hmm_stamp.mem['beta'])"
   ]
  },
  {
   "cell_type": "code",
   "execution_count": 261,
   "metadata": {
    "collapsed": true
   },
   "outputs": [],
   "source": [
    "def gamma(self, Y):\n",
    "    self.init_mem('gamma', len(Y))\n",
    "    self.alpha(Y)\n",
    "    self.beta(Y)\n",
    "    pr_Y = sum(self.mem['alpha'][-1])\n",
    "    for t in range(len(Y)):\n",
    "        for s in self.S:\n",
    "            self.mem['gamma'][t][s] = self.mem['alpha'][t][s] * self.mem['beta'][t][s] / pr_Y\n",
    "            \n",
    "HMM.gamma = gamma"
   ]
  },
  {
   "cell_type": "code",
   "execution_count": 262,
   "metadata": {
    "collapsed": false
   },
   "outputs": [
    {
     "name": "stdout",
     "output_type": "stream",
     "text": [
      "[[0.1881698097532608, 0.8118301902467394], [0.5194317520976989, 0.4805682479023014], [0.2288776273157764, 0.7711223726842237], [0.8039793968596827, 0.19602060314031736]]\n"
     ]
    }
   ],
   "source": [
    "hmm_stamp.gamma(Y)\n",
    "print(hmm_stamp.mem['gamma'])"
   ]
  },
  {
   "cell_type": "code",
   "execution_count": 263,
   "metadata": {
    "collapsed": true
   },
   "outputs": [],
   "source": [
    "def backtrack(self, mem):\n",
    "    dbg('Backtracking:')\n",
    "    path = [None] * len(mem)\n",
    "    for t, step in enumerate(mem):\n",
    "        dbg('t = %s' % t)\n",
    "        max_state_prob = -float('inf')\n",
    "        for i, state_prob in enumerate(step):\n",
    "            dbg('%s: %s' % (self.S[i], state_prob))\n",
    "            if state_prob > max_state_prob:\n",
    "                max_state_prob = state_prob\n",
    "                path[t] = self.S[i]\n",
    "    return path\n",
    "\n",
    "HMM.backtrack = backtrack"
   ]
  },
  {
   "cell_type": "code",
   "execution_count": 264,
   "metadata": {
    "collapsed": true
   },
   "outputs": [],
   "source": [
    "def uncover_forward_backward(self, Y):\n",
    "    self.gamma(Y)\n",
    "    path = self.backtrack(self.mem['gamma'])\n",
    "    opt_X = ''.join(path)\n",
    "    max_prob = self.pr_YX(Y, opt_X)\n",
    "    return (opt_X, max_prob)\n",
    "\n",
    "HMM.uncover_forward_backward = uncover_forward_backward"
   ]
  },
  {
   "cell_type": "code",
   "execution_count": 265,
   "metadata": {
    "collapsed": false
   },
   "outputs": [
    {
     "name": "stdout",
     "output_type": "stream",
     "text": [
      "Backtracking:\n",
      "t = 0\n",
      "H: 0.1881698097532608\n",
      "C: 0.8118301902467394\n",
      "t = 1\n",
      "H: 0.5194317520976989\n",
      "C: 0.4805682479023014\n",
      "t = 2\n",
      "H: 0.2288776273157764\n",
      "C: 0.7711223726842237\n",
      "t = 3\n",
      "H: 0.8039793968596827\n",
      "C: 0.19602060314031736\n"
     ]
    },
    {
     "data": {
      "text/plain": [
       "('CHCH', 0.0018816000000000002)"
      ]
     },
     "execution_count": 265,
     "metadata": {},
     "output_type": "execute_result"
    }
   ],
   "source": [
    "hmm_stamp.uncover_forward_backward(Y)"
   ]
  },
  {
   "cell_type": "code",
   "execution_count": 266,
   "metadata": {
    "collapsed": false
   },
   "outputs": [
    {
     "data": {
      "text/plain": [
       "0.19539752430007484"
      ]
     },
     "execution_count": 266,
     "metadata": {},
     "output_type": "execute_result"
    }
   ],
   "source": [
    "0.0018816 / hmm_stamp.pr_Y(Y)"
   ]
  },
  {
   "cell_type": "markdown",
   "metadata": {},
   "source": [
    "### Viterbi alogirthm\n",
    "Find $$\\argmax_{X}\\P(X\\mid Y)=(x_{0},\\ldots,x_{T-1}:x_{t}=\\argmax_{s\\in S}f_{t}(s),\\quad t\\in\\range 0{T-1})$$ where\n",
    "$$\\begin{eqnarray*}\n",
    "f_{t}(s) & = & \\max_{x_{0},\\ldots,x_{t-1}\\in S}\\P(X_{0}\\ldots X_{t-1},\\xi_{t}=s,Y_{0}\\ldots Y_{t})\\\\\n",
    " & = & B_{\\idx s\\idx y_{t}}\\max_{r\\in S}A_{\\idx r\\idx s}f_{t-1}(r)\\\\\n",
    "f_{0}(s) & = & B_{\\idx s\\idx y_{0}}\\cdot\\pi_{\\idx s}.\n",
    "\\end{eqnarray*}$$\n",
    "\n",
    "Avoid vanishing probabilities as $t \\to \\infty$: compute $$\\tilde{f}_{t}(s)=\\log f_{t}(s)=\\max_{r\\in S}\\left(\\log A_{\\idx r\\idx s}+\\log B_{\\idx s\\idx y_{t}}+\\tilde{f}_{t-1}(r)\\right).$$"
   ]
  },
  {
   "cell_type": "code",
   "execution_count": 267,
   "metadata": {
    "collapsed": false
   },
   "outputs": [],
   "source": [
    "def viterbi(self, Y, with_log=True, algorithm='iterative'):\n",
    "    def viterbi_iter(Y, op):\n",
    "        for s in S:\n",
    "            mem[0][s] = op(B[s][Y[0]], priors[s])\n",
    "            dbg('f_%s (%s) = %s' % (0, s, mem[0][s]))\n",
    "        for t in range(1, len(Y)):\n",
    "            for s in S:\n",
    "                mem[t][s] = -float('inf')\n",
    "                for r in S:\n",
    "                    cur_val = op(A[r][s], mem[t-1][r])\n",
    "                    if cur_val > mem[t][s]:\n",
    "                        mem[t][s] = cur_val\n",
    "                mem[t][s] = op(mem[t][s], B[s][Y[t]])\n",
    "                dbg('f_%s (%s) = %s' % (t, s, mem[t][s]))\n",
    "    \n",
    "    def viterbi_rec(t, s, op, out_offset=''):\n",
    "        dbg(out_offset + 'f_%s (%s):' % (t, s))\n",
    "        if mem[t][s] is not None:\n",
    "            p = mem[t][s]\n",
    "        else:\n",
    "            if t == 0:\n",
    "                p = op(B[s][Y[t]], priors[s], out_offset=out_offset)\n",
    "            else:\n",
    "                p = op(B[s][Y[t]],\n",
    "                        max(op(A[r][s],\n",
    "                               viterbi_rec(t-1, r, op, out_offset+OUT_INCR),\n",
    "                               out_offset=out_offset)\n",
    "                            for r in S),\n",
    "                        out_offset=out_offset)\n",
    "            dbg(out_offset+'Appending state to mem...', 7)\n",
    "            dbg(out_offset+'%s -> ' % mem, 8, end='')\n",
    "            mem[t][s] = p\n",
    "            dbg(out_offset+'%s' % mem, 7)\n",
    "        dbg(out_offset + '==> f_%s (%s) = %s' % (t, s, round(p, OUT_PREC)), 5)\n",
    "        return p\n",
    "    \n",
    "    if with_log:\n",
    "        A = self.A_log\n",
    "        B = self.B_log\n",
    "        priors = self.priors_log\n",
    "        op = lambda *args, **kwargs: verbose_sum(args, **kwargs)\n",
    "    else:\n",
    "        #TODO: verbose prod\n",
    "        A = self.A\n",
    "        B = self.B\n",
    "        priors = self.priors\n",
    "        op = lambda *args, **kwargs: reduce(operator.mul, args, 1)\n",
    "    S = self.S\n",
    "    self.init_mem('viterbi', len(Y), init_val=None)\n",
    "    mem = self.mem['viterbi']\n",
    "    dbg('Using matrices:', 8)\n",
    "    dbg('A = ', 8)\n",
    "    dbg(A, 8)\n",
    "    dbg('B = ', 8)\n",
    "    dbg(B, 8)\n",
    "    if algorithm == 'recursive':\n",
    "        for s in S:\n",
    "            viterbi_rec(len(Y)-1, s, op, out_offset='')\n",
    "            print()\n",
    "    elif algorithm == 'iterative':\n",
    "        viterbi_iter(Y, op)\n",
    "    else:\n",
    "        raise Exception(NotImplemented)\n",
    "        \n",
    "    # backtracking\n",
    "    dbg(mem)\n",
    "    return self.backtrack(mem)\n",
    "\n",
    "HMM.viterbi = viterbi"
   ]
  },
  {
   "cell_type": "markdown",
   "metadata": {},
   "source": [
    "#### Example due to Borodovsky & Ekisheva (2006), pp 80-81\n",
    "\n",
    "(+ presentation HMM: Viterbi alogirhtm - a toy example)"
   ]
  },
  {
   "cell_type": "code",
   "execution_count": 269,
   "metadata": {
    "collapsed": false
   },
   "outputs": [
    {
     "name": "stdout",
     "output_type": "stream",
     "text": [
      "f_8 (H):\n",
      "    f_7 (H):\n",
      "        f_6 (H):\n",
      "            f_5 (H):\n",
      "                f_4 (H):\n",
      "                    f_3 (H):\n",
      "                        f_2 (H):\n",
      "                            f_1 (H):\n",
      "                                f_0 (H):\n",
      "                                -1.737 + -1.0 = -2.737\n",
      "                                Appending state to mem...\n",
      "                                [[-2.736965594166206, None], [None, None], [None, None], [None, None], [None, None], [None, None], [None, None], [None, None], [None, None]]\n",
      "                                ==> f_0 (H) = -2.737\n",
      "                            -1.0 + -2.737 = -3.737\n",
      "                                f_0 (L):\n",
      "                                -2.322 + -1.0 = -3.322\n",
      "                                Appending state to mem...\n",
      "                                [[-2.736965594166206, -3.321928094887362], [None, None], [None, None], [None, None], [None, None], [None, None], [None, None], [None, None], [None, None]]\n",
      "                                ==> f_0 (L) = -3.322\n",
      "                            -1.322 + -3.322 = -4.644\n",
      "                            -1.737 + -3.737 = -5.474\n",
      "                            Appending state to mem...\n",
      "                            [[-2.736965594166206, -3.321928094887362], [-5.473931188332412, None], [None, None], [None, None], [None, None], [None, None], [None, None], [None, None], [None, None]]\n",
      "                            ==> f_1 (H) = -5.474\n",
      "                        -1.0 + -5.474 = -6.474\n",
      "                            f_1 (L):\n",
      "                                f_0 (H):\n",
      "                                ==> f_0 (H) = -2.737\n",
      "                            -1.0 + -2.737 = -3.737\n",
      "                                f_0 (L):\n",
      "                                ==> f_0 (L) = -3.322\n",
      "                            -0.737 + -3.322 = -4.059\n",
      "                            -2.322 + -3.737 = -6.059\n",
      "                            Appending state to mem...\n",
      "                            [[-2.736965594166206, -3.321928094887362], [-5.473931188332412, -6.058893689053568], [None, None], [None, None], [None, None], [None, None], [None, None], [None, None], [None, None]]\n",
      "                            ==> f_1 (L) = -6.059\n",
      "                        -1.322 + -6.059 = -7.381\n",
      "                        -1.737 + -6.474 = -8.211\n",
      "                        Appending state to mem...\n",
      "                        [[-2.736965594166206, -3.321928094887362], [-5.473931188332412, -6.058893689053568], [-8.210896782498619, None], [None, None], [None, None], [None, None], [None, None], [None, None], [None, None]]\n",
      "                        ==> f_2 (H) = -8.211\n",
      "                    -1.0 + -8.211 = -9.211\n",
      "                        f_2 (L):\n",
      "                            f_1 (H):\n",
      "                            ==> f_1 (H) = -5.474\n",
      "                        -1.0 + -5.474 = -6.474\n",
      "                            f_1 (L):\n",
      "                            ==> f_1 (L) = -6.059\n",
      "                        -0.737 + -6.059 = -6.796\n",
      "                        -2.322 + -6.474 = -8.796\n",
      "                        Appending state to mem...\n",
      "                        [[-2.736965594166206, -3.321928094887362], [-5.473931188332412, -6.058893689053568], [-8.210896782498619, -8.795859283219775], [None, None], [None, None], [None, None], [None, None], [None, None], [None, None]]\n",
      "                        ==> f_2 (L) = -8.796\n",
      "                    -1.322 + -8.796 = -10.118\n",
      "                    -2.322 + -9.211 = -11.533\n",
      "                    Appending state to mem...\n",
      "                    [[-2.736965594166206, -3.321928094887362], [-5.473931188332412, -6.058893689053568], [-8.210896782498619, -8.795859283219775], [-11.53282487738598, None], [None, None], [None, None], [None, None], [None, None], [None, None]]\n",
      "                    ==> f_3 (H) = -11.533\n",
      "                -1.0 + -11.533 = -12.533\n",
      "                    f_3 (L):\n",
      "                        f_2 (H):\n",
      "                        ==> f_2 (H) = -8.211\n",
      "                    -1.0 + -8.211 = -9.211\n",
      "                        f_2 (L):\n",
      "                        ==> f_2 (L) = -8.796\n",
      "                    -0.737 + -8.796 = -9.533\n",
      "                    -1.737 + -9.211 = -10.948\n",
      "                    Appending state to mem...\n",
      "                    [[-2.736965594166206, -3.321928094887362], [-5.473931188332412, -6.058893689053568], [-8.210896782498619, -8.795859283219775], [-11.53282487738598, -10.947862376664824], [None, None], [None, None], [None, None], [None, None], [None, None]]\n",
      "                    ==> f_3 (L) = -10.948\n",
      "                -1.322 + -10.948 = -12.27\n",
      "                -1.737 + -12.27 = -14.007\n",
      "                Appending state to mem...\n",
      "                [[-2.736965594166206, -3.321928094887362], [-5.473931188332412, -6.058893689053568], [-8.210896782498619, -8.795859283219775], [-11.53282487738598, -10.947862376664824], [-14.006756065718392, None], [None, None], [None, None], [None, None], [None, None]]\n",
      "                ==> f_4 (H) = -14.007\n",
      "            -1.0 + -14.007 = -15.007\n",
      "                f_4 (L):\n",
      "                    f_3 (H):\n",
      "                    ==> f_3 (H) = -11.533\n",
      "                -1.0 + -11.533 = -12.533\n",
      "                    f_3 (L):\n",
      "                    ==> f_3 (L) = -10.948\n",
      "                -0.737 + -10.948 = -11.685\n",
      "                -2.322 + -11.685 = -14.007\n",
      "                Appending state to mem...\n",
      "                [[-2.736965594166206, -3.321928094887362], [-5.473931188332412, -6.058893689053568], [-8.210896782498619, -8.795859283219775], [-11.53282487738598, -10.947862376664824], [-14.006756065718392, -14.006756065718392], [None, None], [None, None], [None, None], [None, None]]\n",
      "                ==> f_4 (L) = -14.007\n",
      "            -1.322 + -14.007 = -15.329\n",
      "            -2.322 + -15.007 = -17.329\n",
      "            Appending state to mem...\n",
      "            [[-2.736965594166206, -3.321928094887362], [-5.473931188332412, -6.058893689053568], [-8.210896782498619, -8.795859283219775], [-11.53282487738598, -10.947862376664824], [-14.006756065718392, -14.006756065718392], [-17.328684160605754, None], [None, None], [None, None], [None, None]]\n",
      "            ==> f_5 (H) = -17.329\n",
      "        -1.0 + -17.329 = -18.329\n",
      "            f_5 (L):\n",
      "                f_4 (H):\n",
      "                ==> f_4 (H) = -14.007\n",
      "            -1.0 + -14.007 = -15.007\n",
      "                f_4 (L):\n",
      "                ==> f_4 (L) = -14.007\n",
      "            -0.737 + -14.007 = -14.744\n",
      "            -1.737 + -14.744 = -16.481\n",
      "            Appending state to mem...\n",
      "            [[-2.736965594166206, -3.321928094887362], [-5.473931188332412, -6.058893689053568], [-8.210896782498619, -8.795859283219775], [-11.53282487738598, -10.947862376664824], [-14.006756065718392, -14.006756065718392], [-17.328684160605754, -16.480687254050803], [None, None], [None, None], [None, None]]\n",
      "            ==> f_5 (L) = -16.481\n",
      "        -1.322 + -16.481 = -17.803\n",
      "        -1.737 + -17.803 = -19.54\n",
      "        Appending state to mem...\n",
      "        [[-2.736965594166206, -3.321928094887362], [-5.473931188332412, -6.058893689053568], [-8.210896782498619, -8.795859283219775], [-11.53282487738598, -10.947862376664824], [-14.006756065718392, -14.006756065718392], [-17.328684160605754, -16.480687254050803], [-19.539580943104372, None], [None, None], [None, None]]\n",
      "        ==> f_6 (H) = -19.54\n",
      "    -1.0 + -19.54 = -20.54\n",
      "        f_6 (L):\n",
      "            f_5 (H):\n",
      "            ==> f_5 (H) = -17.329\n",
      "        -1.0 + -17.329 = -18.329\n",
      "            f_5 (L):\n",
      "            ==> f_5 (L) = -16.481\n",
      "        -0.737 + -16.481 = -17.218\n",
      "        -2.322 + -17.218 = -19.54\n",
      "        Appending state to mem...\n",
      "        [[-2.736965594166206, -3.321928094887362], [-5.473931188332412, -6.058893689053568], [-8.210896782498619, -8.795859283219775], [-11.53282487738598, -10.947862376664824], [-14.006756065718392, -14.006756065718392], [-17.328684160605754, -16.480687254050803], [-19.539580943104372, -19.539580943104372], [None, None], [None, None]]\n",
      "        ==> f_6 (L) = -19.54\n",
      "    -1.322 + -19.54 = -20.862\n",
      "    -2.322 + -20.54 = -22.862\n",
      "    Appending state to mem...\n",
      "    [[-2.736965594166206, -3.321928094887362], [-5.473931188332412, -6.058893689053568], [-8.210896782498619, -8.795859283219775], [-11.53282487738598, -10.947862376664824], [-14.006756065718392, -14.006756065718392], [-17.328684160605754, -16.480687254050803], [-19.539580943104372, -19.539580943104372], [-22.861509037991734, None], [None, None]]\n",
      "    ==> f_7 (H) = -22.862\n",
      "-1.0 + -22.862 = -23.862\n",
      "    f_7 (L):\n",
      "        f_6 (H):\n",
      "        ==> f_6 (H) = -19.54\n",
      "    -1.0 + -19.54 = -20.54\n",
      "        f_6 (L):\n",
      "        ==> f_6 (L) = -19.54\n",
      "    -0.737 + -19.54 = -20.277\n",
      "    -1.737 + -20.277 = -22.014\n",
      "    Appending state to mem...\n",
      "    [[-2.736965594166206, -3.321928094887362], [-5.473931188332412, -6.058893689053568], [-8.210896782498619, -8.795859283219775], [-11.53282487738598, -10.947862376664824], [-14.006756065718392, -14.006756065718392], [-17.328684160605754, -16.480687254050803], [-19.539580943104372, -19.539580943104372], [-22.861509037991734, -22.013512131436787], [None, None]]\n",
      "    ==> f_7 (L) = -22.014\n",
      "-1.322 + -22.014 = -23.335\n",
      "-2.322 + -23.335 = -25.657\n",
      "Appending state to mem...\n",
      "[[-2.736965594166206, -3.321928094887362], [-5.473931188332412, -6.058893689053568], [-8.210896782498619, -8.795859283219775], [-11.53282487738598, -10.947862376664824], [-14.006756065718392, -14.006756065718392], [-17.328684160605754, -16.480687254050803], [-19.539580943104372, -19.539580943104372], [-22.861509037991734, -22.013512131436787], [-25.65736832121151, None]]\n",
      "==> f_8 (H) = -25.657\n",
      "\n",
      "f_8 (L):\n",
      "    f_7 (H):\n",
      "    ==> f_7 (H) = -22.862\n",
      "-1.0 + -22.862 = -23.862\n",
      "    f_7 (L):\n",
      "    ==> f_7 (L) = -22.014\n",
      "-0.737 + -22.014 = -22.75\n",
      "-1.737 + -22.75 = -24.487\n",
      "Appending state to mem...\n",
      "[[-2.736965594166206, -3.321928094887362], [-5.473931188332412, -6.058893689053568], [-8.210896782498619, -8.795859283219775], [-11.53282487738598, -10.947862376664824], [-14.006756065718392, -14.006756065718392], [-17.328684160605754, -16.480687254050803], [-19.539580943104372, -19.539580943104372], [-22.861509037991734, -22.013512131436787], [-25.65736832121151, -24.487443319769202]]\n",
      "==> f_8 (L) = -24.487\n",
      "\n",
      "[[-2.736965594166206, -3.321928094887362], [-5.473931188332412, -6.058893689053568], [-8.210896782498619, -8.795859283219775], [-11.53282487738598, -10.947862376664824], [-14.006756065718392, -14.006756065718392], [-17.328684160605754, -16.480687254050803], [-19.539580943104372, -19.539580943104372], [-22.861509037991734, -22.013512131436787], [-25.65736832121151, -24.487443319769202]]\n",
      "Backtracking:\n",
      "t = 0\n",
      "H: -2.736965594166206\n",
      "L: -3.321928094887362\n",
      "t = 1\n",
      "H: -5.473931188332412\n",
      "L: -6.058893689053568\n",
      "t = 2\n",
      "H: -8.210896782498619\n",
      "L: -8.795859283219775\n",
      "t = 3\n",
      "H: -11.53282487738598\n",
      "L: -10.947862376664824\n",
      "t = 4\n",
      "H: -14.006756065718392\n",
      "L: -14.006756065718392\n",
      "t = 5\n",
      "H: -17.328684160605754\n",
      "L: -16.480687254050803\n",
      "t = 6\n",
      "H: -19.539580943104372\n",
      "L: -19.539580943104372\n",
      "t = 7\n",
      "H: -22.861509037991734\n",
      "L: -22.013512131436787\n",
      "t = 8\n",
      "H: -25.65736832121151\n",
      "L: -24.487443319769202\n",
      "['H', 'H', 'H', 'L', 'H', 'L', 'H', 'L', 'L']\n"
     ]
    }
   ],
   "source": [
    "S = 'HL'\n",
    "Q = 'ACGT'\n",
    "\n",
    "priors = [0.5, 0.5]\n",
    "A = [[0.5, 0.5],\n",
    "     [0.4, 0.6]]\n",
    "B = [[0.2, 0.3, 0.3, 0.2],\n",
    "     [0.3, 0.2, 0.2, 0.3]]\n",
    "\n",
    "hmm_borod = HMM(S, Q, priors, A, B)\n",
    "\n",
    "Y = 'GGCACTGAA'\n",
    "# Y = 'G'\n",
    "\n",
    "VERBOSITY = 7\n",
    "print(hmm_borod.viterbi(Y, algorithm='recursive'))"
   ]
  },
  {
   "cell_type": "code",
   "execution_count": 270,
   "metadata": {
    "collapsed": false
   },
   "outputs": [
    {
     "name": "stdout",
     "output_type": "stream",
     "text": [
      "-1.737 + -1.0 = -2.737\n",
      "f_0 (H) = -2.736965594166206\n",
      "-2.322 + -1.0 = -3.322\n",
      "f_0 (L) = -3.321928094887362\n",
      "-1.0 + -2.737 = -3.737\n",
      "-1.322 + -3.322 = -4.644\n",
      "-3.737 + -1.737 = -5.474\n",
      "f_1 (H) = -5.473931188332412\n",
      "-1.0 + -2.737 = -3.737\n",
      "-0.737 + -3.322 = -4.059\n",
      "-3.737 + -2.322 = -6.059\n",
      "f_1 (L) = -6.058893689053568\n",
      "-1.0 + -5.474 = -6.474\n",
      "-1.322 + -6.059 = -7.381\n",
      "-6.474 + -1.737 = -8.211\n",
      "f_2 (H) = -8.210896782498619\n",
      "-1.0 + -5.474 = -6.474\n",
      "-0.737 + -6.059 = -6.796\n",
      "-6.474 + -2.322 = -8.796\n",
      "f_2 (L) = -8.795859283219775\n",
      "-1.0 + -8.211 = -9.211\n",
      "-1.322 + -8.796 = -10.118\n",
      "-9.211 + -2.322 = -11.533\n",
      "f_3 (H) = -11.53282487738598\n",
      "-1.0 + -8.211 = -9.211\n",
      "-0.737 + -8.796 = -9.533\n",
      "-9.211 + -1.737 = -10.948\n",
      "f_3 (L) = -10.947862376664824\n",
      "-1.0 + -11.533 = -12.533\n",
      "-1.322 + -10.948 = -12.27\n",
      "-12.27 + -1.737 = -14.007\n",
      "f_4 (H) = -14.006756065718392\n",
      "-1.0 + -11.533 = -12.533\n",
      "-0.737 + -10.948 = -11.685\n",
      "-11.685 + -2.322 = -14.007\n",
      "f_4 (L) = -14.006756065718392\n",
      "-1.0 + -14.007 = -15.007\n",
      "-1.322 + -14.007 = -15.329\n",
      "-15.007 + -2.322 = -17.329\n",
      "f_5 (H) = -17.328684160605754\n",
      "-1.0 + -14.007 = -15.007\n",
      "-0.737 + -14.007 = -14.744\n",
      "-14.744 + -1.737 = -16.481\n",
      "f_5 (L) = -16.480687254050803\n",
      "-1.0 + -17.329 = -18.329\n",
      "-1.322 + -16.481 = -17.803\n",
      "-17.803 + -1.737 = -19.54\n",
      "f_6 (H) = -19.539580943104372\n",
      "-1.0 + -17.329 = -18.329\n",
      "-0.737 + -16.481 = -17.218\n",
      "-17.218 + -2.322 = -19.54\n",
      "f_6 (L) = -19.539580943104372\n",
      "-1.0 + -19.54 = -20.54\n",
      "-1.322 + -19.54 = -20.862\n",
      "-20.54 + -2.322 = -22.862\n",
      "f_7 (H) = -22.861509037991734\n",
      "-1.0 + -19.54 = -20.54\n",
      "-0.737 + -19.54 = -20.277\n",
      "-20.277 + -1.737 = -22.014\n",
      "f_7 (L) = -22.013512131436787\n",
      "-1.0 + -22.862 = -23.862\n",
      "-1.322 + -22.014 = -23.335\n",
      "-23.335 + -2.322 = -25.657\n",
      "f_8 (H) = -25.65736832121151\n",
      "-1.0 + -22.862 = -23.862\n",
      "-0.737 + -22.014 = -22.75\n",
      "-22.75 + -1.737 = -24.487\n",
      "f_8 (L) = -24.487443319769202\n",
      "[[-2.736965594166206, -3.321928094887362], [-5.473931188332412, -6.058893689053568], [-8.210896782498619, -8.795859283219775], [-11.53282487738598, -10.947862376664824], [-14.006756065718392, -14.006756065718392], [-17.328684160605754, -16.480687254050803], [-19.539580943104372, -19.539580943104372], [-22.861509037991734, -22.013512131436787], [-25.65736832121151, -24.487443319769202]]\n",
      "Backtracking:\n",
      "t = 0\n",
      "H: -2.736965594166206\n",
      "L: -3.321928094887362\n",
      "t = 1\n",
      "H: -5.473931188332412\n",
      "L: -6.058893689053568\n",
      "t = 2\n",
      "H: -8.210896782498619\n",
      "L: -8.795859283219775\n",
      "t = 3\n",
      "H: -11.53282487738598\n",
      "L: -10.947862376664824\n",
      "t = 4\n",
      "H: -14.006756065718392\n",
      "L: -14.006756065718392\n",
      "t = 5\n",
      "H: -17.328684160605754\n",
      "L: -16.480687254050803\n",
      "t = 6\n",
      "H: -19.539580943104372\n",
      "L: -19.539580943104372\n",
      "t = 7\n",
      "H: -22.861509037991734\n",
      "L: -22.013512131436787\n",
      "t = 8\n",
      "H: -25.65736832121151\n",
      "L: -24.487443319769202\n",
      "['H', 'H', 'H', 'L', 'H', 'L', 'H', 'L', 'L']\n"
     ]
    }
   ],
   "source": [
    "print(hmm_borod.viterbi(Y, algorithm='iterative'))"
   ]
  },
  {
   "cell_type": "code",
   "execution_count": 271,
   "metadata": {
    "collapsed": false
   },
   "outputs": [
    {
     "name": "stdout",
     "output_type": "stream",
     "text": [
      "f_0 (H) = 0.06\n",
      "f_0 (C) = 0.27999999999999997\n",
      "f_1 (H) = 0.0448\n",
      "f_1 (C) = 0.0336\n",
      "f_2 (H) = 0.003136\n",
      "f_2 (C) = 0.014111999999999998\n",
      "f_3 (H) = 0.0028223999999999996\n",
      "f_3 (C) = 0.0008467199999999998\n",
      "[[0.06, 0.27999999999999997], [0.0448, 0.0336], [0.003136, 0.014111999999999998], [0.0028223999999999996, 0.0008467199999999998]]\n",
      "Backtracking:\n",
      "t = 0\n",
      "H: 0.06\n",
      "C: 0.27999999999999997\n",
      "t = 1\n",
      "H: 0.0448\n",
      "C: 0.0336\n",
      "t = 2\n",
      "H: 0.003136\n",
      "C: 0.014111999999999998\n",
      "t = 3\n",
      "H: 0.0028223999999999996\n",
      "C: 0.0008467199999999998\n"
     ]
    },
    {
     "data": {
      "text/plain": [
       "['C', 'H', 'C', 'H']"
      ]
     },
     "execution_count": 271,
     "metadata": {},
     "output_type": "execute_result"
    }
   ],
   "source": [
    "# viterbi probabilities not meaningful?\n",
    "Y = ('S', 'M', 'S', 'L')\n",
    "hmm_stamp.viterbi(Y, with_log=False, algorithm='iterative')"
   ]
  },
  {
   "cell_type": "code",
   "execution_count": 272,
   "metadata": {
    "collapsed": false
   },
   "outputs": [
    {
     "data": {
      "text/plain": [
       "0.34173439999999994"
      ]
     },
     "execution_count": 272,
     "metadata": {},
     "output_type": "execute_result"
    }
   ],
   "source": [
    "sum([0.2799999999999999, 0.0448, 0.014111999999999998, 0.0028223999999999996])"
   ]
  },
  {
   "cell_type": "code",
   "execution_count": 273,
   "metadata": {
    "collapsed": false
   },
   "outputs": [],
   "source": [
    "def uncover(self, Y, algorithm='viterbi', **kwargs):\n",
    "    if algorithm == 'bruteforce':\n",
    "        return self.uncover_bruteforce(Y)\n",
    "    elif algorithm == 'forward-backward_demo':\n",
    "        return self.uncover_fb_demo(Y)\n",
    "    elif algorithm == 'forward-backward':\n",
    "        return self.uncover_forward_backward(Y)\n",
    "    elif algorithm == 'viterbi':\n",
    "        return self.viterbi(Y, kwargs)\n",
    "    else:\n",
    "        raise Exception(NotImplemented)\n",
    "\n",
    "HMM.uncover = uncover"
   ]
  },
  {
   "cell_type": "markdown",
   "metadata": {},
   "source": [
    "#### Simulation"
   ]
  },
  {
   "cell_type": "code",
   "execution_count": 275,
   "metadata": {
    "collapsed": true
   },
   "outputs": [],
   "source": [
    "def simulate(self, n):\n",
    "    X = [np.random.choice(list(self.S), 1, p=self.priors)[0]]\n",
    "    Y = [np.random.choice(list(self.Q), 1, p=self.B[0])[0]]\n",
    "    for _ in range(n - 1):\n",
    "        X.append(np.random.choice(list(self.S), 1, p=self.A[X[-1]])[0])\n",
    "        Y.append(np.random.choice(list(self.Q), 1, p=self.B[X[-1]])[0])\n",
    "    return X, Y\n",
    "\n",
    "HMM.simulate = simulate"
   ]
  },
  {
   "cell_type": "code",
   "execution_count": 276,
   "metadata": {
    "collapsed": false,
    "scrolled": true
   },
   "outputs": [
    {
     "name": "stdout",
     "output_type": "stream",
     "text": [
      "[0.5, 0.5]\n",
      "[[0.5, 0.5], [0.4, 0.6]]\n",
      "[[0.2, 0.3, 0.3, 0.2], [0.3, 0.2, 0.2, 0.3]]\n",
      "0.55\n"
     ]
    }
   ],
   "source": [
    "X, Y = hmm_borod.simulate(100)\n",
    "VERBOSITY = 4\n",
    "X_est = hmm_borod.viterbi(Y)\n",
    "print(hmm_borod)\n",
    "print(sum(np.array(X) == np.array(X_est)) / 100)"
   ]
  },
  {
   "cell_type": "code",
   "execution_count": 277,
   "metadata": {
    "collapsed": false
   },
   "outputs": [
    {
     "name": "stdout",
     "output_type": "stream",
     "text": [
      "[0.5, 0.5]\n",
      "[[0.85, 0.15], [0.12, 0.88]]\n",
      "[[0.8, 0.1, 0.1], [0.0, 0.0, 1]]\n",
      "0.952\n"
     ]
    }
   ],
   "source": [
    "S = 'AB'\n",
    "Q = 'XYZ'\n",
    "\n",
    "priors = [0.5, 0.5]\n",
    "A = [[0.85, 0.15],\n",
    "     [0.12, 0.88]]\n",
    "B = [[0.8, 0.1, 0.1],\n",
    "     [0.0, 0.0, 1]]\n",
    "hmm_reference = HMM(S, Q, priors, A, B)\n",
    "\n",
    "X, Y = hmm_reference.simulate(1000)\n",
    "VERBOSITY = 4\n",
    "X_est = hmm_reference.viterbi(Y)\n",
    "print(hmm_reference)\n",
    "print(sum(np.array(X) == np.array(X_est)) / 1000)"
   ]
  },
  {
   "cell_type": "code",
   "execution_count": 278,
   "metadata": {
    "collapsed": false,
    "scrolled": true
   },
   "outputs": [
    {
     "name": "stdout",
     "output_type": "stream",
     "text": [
      "[0.6, 0.4]\n",
      "[[0.7, 0.3], [0.4, 0.6]]\n",
      "[[0.1, 0.4, 0.5], [0.7, 0.2, 0.1]]\n",
      "0.811\n"
     ]
    }
   ],
   "source": [
    "X, Y = hmm_stamp.simulate(1000)\n",
    "VERBOSITY = 4\n",
    "X_est = hmm_stamp.viterbi(Y)\n",
    "print(hmm_stamp)\n",
    "print(sum(np.array(X) == np.array(X_est)) / 1000)"
   ]
  },
  {
   "cell_type": "code",
   "execution_count": 279,
   "metadata": {
    "collapsed": false
   },
   "outputs": [],
   "source": [
    "# res = []\n",
    "# T = 1000\n",
    "# hmm_init_rand22 = HMM('AB', 'CD', noise=1)\n",
    "# for t in range(100):\n",
    "#     X, Y = hmm_init_rand22.simulate(T)\n",
    "#     X_est = hmm_init_rand22.viterbi(Y)\n",
    "#     res.append(sum(np.array(X) == np.array(X_est)) / T)\n",
    "# plt.tight_layout(pad=0.1)\n",
    "# plt.plot(res)\n",
    "# plt.show()\n",
    "# print(np.mean(res))"
   ]
  },
  {
   "cell_type": "markdown",
   "metadata": {},
   "source": [
    "##### Random matrices"
   ]
  },
  {
   "cell_type": "code",
   "execution_count": 208,
   "metadata": {
    "collapsed": false
   },
   "outputs": [
    {
     "name": "stdout",
     "output_type": "stream",
     "text": [
      "[0.4163572963449206, 0.5836427036550794]\n",
      "[[0.7216486554528719, 0.278351344547128],\n",
      " [0.38904108172616525, 0.6109589182738348]]\n",
      "[[0.25942840112460025,\n",
      "  0.23236403924574478,\n",
      "  0.26152596880082885,\n",
      "  0.24668159082882612],\n",
      " [0.2757745189750482,\n",
      "  0.26892892308281263,\n",
      "  0.20238019867096765,\n",
      "  0.2529163592711715]]\n"
     ]
    },
    {
     "data": {
      "image/png": "[encoded data removed]",
      "text/plain": [
       "<matplotlib.figure.Figure at 0x7fb26cbd8080>"
      ]
     },
     "metadata": {},
     "output_type": "display_data"
    },
    {
     "name": "stdout",
     "output_type": "stream",
     "text": [
      "0.57365\n"
     ]
    }
   ],
   "source": [
    "plt.rcParams['figure.figsize'] = 4.5, 2.8   # 0.7\n",
    "\n",
    "VERBOSITY = 4\n",
    "res = []\n",
    "T = 1000\n",
    "for t in range(100):\n",
    "    hmm_init_rand = HMM('AB', 'CDEF', noise=3)\n",
    "    X, Y = hmm_init_rand.simulate(T)\n",
    "    X_est = hmm_init_rand.viterbi(Y)\n",
    "    res.append(sum(np.array(X) == np.array(X_est)) / T)\n",
    "\n",
    "print(hmm_init_rand)\n",
    "\n",
    "# with plt.style.context(('grayscale')):\n",
    "plt.plot(res, label=r'Guesses correct')\n",
    "plt.ylim(0.4, 1)\n",
    "plt.axhline(np.mean(res), label='Mean', color='#348ABD')\n",
    "plt.legend()\n",
    "plt.xlabel('No. trial')\n",
    "plt.tight_layout(pad=0.1)\n",
    "# plt.ylabel('bar')\n",
    "plt.savefig('viterbi-2_4.pdf')\n",
    "plt.show()\n",
    "print(np.mean(res))"
   ]
  },
  {
   "cell_type": "markdown",
   "metadata": {},
   "source": [
    "##### Non-random matrix"
   ]
  },
  {
   "cell_type": "code",
   "execution_count": 215,
   "metadata": {
    "collapsed": false
   },
   "outputs": [
    {
     "name": "stdout",
     "output_type": "stream",
     "text": [
      "[0.5, 0.5]\n",
      "[[0.9, 0.1], [0.05, 0.95]]\n",
      "[[0.8, 0.1, 0.05, 0.05], [0.0, 0.95, 0.04, 0.01]]\n"
     ]
    },
    {
     "data": {
      "image/png": "[encoded data removed]",
      "text/plain": [
       "<matplotlib.figure.Figure at 0x7fb26db37e10>"
      ]
     },
     "metadata": {},
     "output_type": "display_data"
    },
    {
     "name": "stdout",
     "output_type": "stream",
     "text": [
      "0.95863\n"
     ]
    }
   ],
   "source": [
    "res = []\n",
    "T = 1000\n",
    "hmm_nonrandom = HMM('AB', 'CDEF', [0.5, 0.5], [[0.9, 0.1], [0.05, 0.95]], [[0.8, 0.1, 0.05, 0.05], [0.0, 0.95, 0.04, 0.01]])\n",
    "for t in range(100):\n",
    "#     hmm_init_rand = HMM('AB', 'CDEF', noise=1)\n",
    "    X, Y = hmm_nonrandom.simulate(T)\n",
    "    X_est = hmm_nonrandom.viterbi(Y)\n",
    "    res.append(sum(np.array(X) == np.array(X_est)) / T)\n",
    "plt.plot(res, label=r'Guesses correct')\n",
    "plt.ylim(0.5, 1)\n",
    "plt.axhline(np.mean(res), label='Mean', color='#348ABD')\n",
    "plt.legend(loc='lower right')\n",
    "plt.xlabel('No. trial')\n",
    "plt.tight_layout(pad=0.1)\n",
    "# plt.ylabel('bar')\n",
    "plt.savefig('viterbi-2_4-good.pdf')\n",
    "plt.show()\n",
    "print(np.mean(res))"
   ]
  },
  {
   "cell_type": "markdown",
   "metadata": {
    "collapsed": true
   },
   "source": [
    "## Learning"
   ]
  },
  {
   "cell_type": "code",
   "execution_count": 282,
   "metadata": {
    "collapsed": false
   },
   "outputs": [],
   "source": [
    "def baum_welch_scaled_step(self, Y):\n",
    "    self.init_mem('delta', len(Y)-1, dim=2)\n",
    "    self.init_mem('gamma', len(Y))\n",
    "    self.alpha(Y, with_scaling=True)\n",
    "    self.beta(Y, scale=True)\n",
    "    a = self.mem['alpha']\n",
    "    b = self.mem['beta']\n",
    "    d = self.mem['delta']    # unnormalized\n",
    "    g = self.mem['gamma']    # unnormalized\n",
    "    \n",
    "    dbg('alpha: %s' % a, pp=True)\n",
    "    dbg('beta: %s' % b, pp=True)\n",
    "    \n",
    "    # Calculate \\gamma * P(Y) and \\delta * P(Y)\n",
    "    \n",
    "    for t in range(len(Y)-1):\n",
    "        # CUT\n",
    "#         denom = 0\n",
    "#         for s in self.S:\n",
    "#             for r in self.S:\n",
    "#                 denom += self.A[s][r] * self.B[r][Y[t+1]] * a[t][s] * b[t+1][r]\n",
    "        # CUT\n",
    "        for s in self.S:\n",
    "            for r in self.S:\n",
    "                d[t][s][r] = self.A[s][r] * self.B[r][Y[t+1]] * a[t][s] * b[t+1][r]\n",
    "#                 d[t][s][r] = self.A[s][r] * self.B[r][Y[t+1]] * a[t][s] * b[t+1][r] / denom\n",
    "            g[t][s] = sum(d[t][s])\n",
    "    \n",
    "    dbg('delta: %s' % d, pp=True)\n",
    "    \n",
    "    # Special case of t = T-1\n",
    "    denom = 0\n",
    "    for s in self.S:\n",
    "        g[len(Y)-1][s] = a[len(Y)-1][s] * b[len(Y)-1][s]\n",
    "        denom += g[len(Y)-1][s]\n",
    "    for s in self.S:\n",
    "        g[len(Y)-1][s] /= denom\n",
    "        \n",
    "    dbg('gamma: %s' % g, pp=True)\n",
    "    \n",
    "    # Re-esitimate priors, A and B\n",
    "    \n",
    "    # priors\n",
    "    for s in self.S:\n",
    "        self.priors[s] = g[0][s]\n",
    "        \n",
    "    dbg('priors: %s' % self.priors, pp=True)\n",
    "    \n",
    "    # A\n",
    "    for s in self.S:\n",
    "        for r in self.S:\n",
    "            numer = denom = 0\n",
    "            for t in range(len(Y)-1):\n",
    "                numer += d[t][s][r]\n",
    "                denom += g[t][s]\n",
    "            self.A[s][r] = numer / denom\n",
    "    \n",
    "    dbg('A: %s' % self.A, pp=True)\n",
    "\n",
    "    # B\n",
    "    for s in self.S:\n",
    "        for q in self.Q:\n",
    "            numer = denom = 0\n",
    "            for t in range(len(Y)):\n",
    "                if Y[t] == q:\n",
    "                    numer += g[t][s]\n",
    "                denom += g[t][s]\n",
    "            self.B[s][q] = numer / denom\n",
    "        \n",
    "    dbg('B: %s' % self.B, pp=True)\n",
    "\n",
    "    return sum(math.log(c) for c in self.mem['c'])   # minus\n",
    "\n",
    "HMM.baum_welch_scaled_step = baum_welch_scaled_step"
   ]
  },
  {
   "cell_type": "code",
   "execution_count": 283,
   "metadata": {
    "collapsed": true
   },
   "outputs": [],
   "source": [
    "HMM.baum_welch_step = HMM.baum_welch_scaled_step"
   ]
  },
  {
   "cell_type": "code",
   "execution_count": 284,
   "metadata": {
    "collapsed": true
   },
   "outputs": [],
   "source": [
    "S = ['H', 'C']          # Annual temperatures: hot, cold\n",
    "Q = ['S', 'M', 'L']     # Size of tree growth rings: small, medium, large\n",
    "priors = [0.6, 0.4]\n",
    "A = [[0.7, 0.3],\n",
    "     [0.4, 0.6],]\n",
    "B = [[0.1, 0.4, 0.5],\n",
    "     [0.7, 0.2, 0.1],]\n",
    "\n",
    "hmm_stamp = HMM(S, Q, priors, A, B)"
   ]
  },
  {
   "cell_type": "code",
   "execution_count": 285,
   "metadata": {
    "collapsed": false,
    "scrolled": true
   },
   "outputs": [
    {
     "name": "stdout",
     "output_type": "stream",
     "text": [
      "-10.133328913140712\n",
      "10.133328913140712\n"
     ]
    }
   ],
   "source": [
    "Y = ('S', 'M', 'S', 'L', 'L', 'M', 'M', 'L', 'S')\n",
    "VERBOSITY = 4\n",
    "print(math.log(hmm_stamp.pr_Y(Y)))\n",
    "print(hmm_stamp.baum_welch_step(Y))\n",
    "# print(hmm_stamp)"
   ]
  },
  {
   "cell_type": "code",
   "execution_count": 286,
   "metadata": {
    "collapsed": true
   },
   "outputs": [],
   "source": [
    "hmm_stamp = HMM(S, Q, priors, A, B)"
   ]
  },
  {
   "cell_type": "code",
   "execution_count": 287,
   "metadata": {
    "collapsed": false
   },
   "outputs": [],
   "source": [
    "def train(self, Y, eps=0, max_iter=float('inf'), metric='P(Y)', graphics=False):\n",
    "    if metric == 'P(Y)':\n",
    "        columns = [r'$-\\log \\mathsf{P}(Y)$']\n",
    "    elif metric == 'model':\n",
    "        columns = [r'$\\max |\\pi^{(t)} - \\pi^{(t-1)}|$', r'$\\max |A^{(t)} - A^{(t-1)}|$', r'$\\max |B^{(t)} - B^{(t-1)}|$']\n",
    "    hist = pd.DataFrame(None, columns=columns)\n",
    "    iter_n = 0\n",
    "    diff = float('inf')    # \"statistic\"\n",
    "    P_Y = None\n",
    "    while ((iter_n < max_iter) and (diff > eps)):\n",
    "        dbg('iter #%s' % iter_n, 4, end='')\n",
    "        if metric == 'model':\n",
    "            priors_old = deepcopy(self.priors)\n",
    "            A_old = deepcopy(self.A)\n",
    "            B_old = deepcopy(self.B)\n",
    "        p_old = self.baum_welch_step(Y)  # return *old* value of P(Y)\n",
    "        if metric == 'model':\n",
    "            model_diff = [(self.priors - priors_old).get_abs().get_max(),\n",
    "                          (self.A - A_old).get_abs().get_max(),\n",
    "                          (self.B - B_old).get_abs().get_max()]\n",
    "            hist.loc[len(hist)] = model_diff\n",
    "            diff = max(model_diff)\n",
    "        elif metric == 'P(Y)':\n",
    "            hist.loc[len(hist)] = p_old\n",
    "            if P_Y is None:\n",
    "                P_Y = p_old\n",
    "            else:\n",
    "                diff = P_Y - p_old\n",
    "                P_Y = p_old\n",
    "        else:\n",
    "            raise NotImplementedError('Unknown metric \"%s\"' % metric)\n",
    "        dbg(' %s' % diff, 4)\n",
    "        iter_n += 1\n",
    "    self.create_log_matrices()\n",
    "    return hist\n",
    "\n",
    "HMM.train = train"
   ]
  },
  {
   "cell_type": "code",
   "execution_count": 288,
   "metadata": {
    "collapsed": true
   },
   "outputs": [],
   "source": [
    "# def plot_df(df, filename=None):\n",
    "#     for col in df:\n",
    "#         plt.plot(df[col], label=col)\n",
    "#     plt.legend()\n",
    "#     plt.tight_layout(pad=0.1)\n",
    "#     if filename:\n",
    "#         plt.savefig(filename)\n",
    "#     plt.show()"
   ]
  },
  {
   "cell_type": "markdown",
   "metadata": {},
   "source": [
    "### Metrics"
   ]
  },
  {
   "cell_type": "code",
   "execution_count": 154,
   "metadata": {
    "collapsed": false,
    "scrolled": false
   },
   "outputs": [
    {
     "name": "stdout",
     "output_type": "stream",
     "text": [
      "iter #0 inf\n",
      "iter #1 0.7053384534477196\n",
      "iter #2 0.2366534790217596\n",
      "iter #3 0.1914880117074116\n",
      "iter #4 0.2803337394100627\n",
      "iter #5 0.3356735337824315\n",
      "iter #6 0.21624843316155662\n",
      "iter #7 0.09612651617275958\n",
      "iter #8 0.04639245204273834\n",
      "iter #9 0.02419850711270044\n",
      "iter #10 0.012551110028746315\n",
      "iter #11 0.006418926635613609\n",
      "iter #12 0.003265754273780175\n",
      "iter #13 0.001668848144475099\n",
      "iter #14 0.0008667043461905166\n",
      "iter #0 0.41133164499919206\n",
      "iter #1 0.1466570272822425\n",
      "iter #2 0.09531190856785265\n",
      "iter #3 0.11519607446536409\n",
      "iter #4 0.10815225135075723\n",
      "iter #5 0.04960208798701969\n",
      "iter #6 0.020249472603113938\n",
      "iter #7 0.012027159164019896\n",
      "iter #8 0.006572850945039605\n",
      "iter #9 0.0034135082972987364\n",
      "iter #10 0.0017233001631837567\n",
      "iter #11 0.0012142453061034786\n",
      "iter #12 0.0009758084273338019\n",
      "iter #13 0.0008761039875897353\n",
      "iter #14 0.0009205805609491663\n"
     ]
    },
    {
     "data": {
      "image/png": "[encoded data removed]",
      "text/plain": [
       "<matplotlib.figure.Figure at 0x7fb26d3bc0f0>"
      ]
     },
     "metadata": {},
     "output_type": "display_data"
    },
    {
     "data": {
      "image/png": "[encoded data removed]",
      "text/plain": [
       "<matplotlib.figure.Figure at 0x7fb26c336f98>"
      ]
     },
     "metadata": {},
     "output_type": "display_data"
    }
   ],
   "source": [
    "# plt.rcParams['figure.figsize'] = 3.9, 2.4   # 0.6\n",
    "matplotlib.style.use('ggplot')\n",
    "Y = ('S', 'M', 'S', 'L', 'L', 'M', 'M', 'L', 'S')\n",
    "VERBOSITY = 4\n",
    "hmm_stamp_copy = deepcopy(hmm_stamp)\n",
    "for n, metric in enumerate(['P(Y)', 'model']):\n",
    "    hmm_stamp_copy = HMM(S, Q, priors, A, B)\n",
    "    h = hmm_stamp_copy.train(Y, metric=metric, max_iter=15)\n",
    "#     plot_df(h, 'metric-%s.pdf' % metric)\n",
    "#     with plt.style.context(('grayscale')):\n",
    "#     plt.plot(h)\n",
    "#     plt.tight_layout(pad=0.1)\n",
    "#     plt.show()\n",
    "#     ax = h.plot(figsize=(10, 7), fontsize=16)\n",
    "#     ax = h.plot(figsize=(plt.rcParams['figure.figsize']))\n",
    "#     plt.subplot(2, 1, n+1)\n",
    "#     h.plot(subplots=True)\n",
    "    ax = h.plot()\n",
    "#     print(ax)\n",
    "    ax.legend()\n",
    "    plt.xlabel('No. iteratrions')\n",
    "    ax.figure.tight_layout(pad=0.1)\n",
    "    ax.figure.savefig('metric-%s.pdf' % metric)\n",
    "#     ax.tick_params(labelsize=16)\n",
    "#     ax.legend(fontsize=16)\n",
    "#     ax.figure.dpi = 72\n",
    "#     ax.figure.savefig('metric-%s.pdf' % metric, dpi=72)"
   ]
  },
  {
   "cell_type": "markdown",
   "metadata": {},
   "source": [
    "### Simulation"
   ]
  },
  {
   "cell_type": "code",
   "execution_count": 155,
   "metadata": {
    "collapsed": true
   },
   "outputs": [],
   "source": [
    "S = 'AB'\n",
    "Q = 'XYZ'"
   ]
  },
  {
   "cell_type": "code",
   "execution_count": 156,
   "metadata": {
    "collapsed": true
   },
   "outputs": [],
   "source": [
    "priors = [0.5, 0.5]\n",
    "A = [[0.85, 0.15],\n",
    "     [0.12, 0.88]]\n",
    "B = [[0.8, 0.1, 0.1],\n",
    "     [0.0, 0.0, 1]]"
   ]
  },
  {
   "cell_type": "code",
   "execution_count": 157,
   "metadata": {
    "collapsed": false
   },
   "outputs": [],
   "source": [
    "hmm_reference_borrowed = HMM(S, Q, priors, A, B)"
   ]
  },
  {
   "cell_type": "code",
   "execution_count": 158,
   "metadata": {
    "collapsed": true
   },
   "outputs": [],
   "source": [
    "hmm_reference_rand = HMM(S, Q)"
   ]
  },
  {
   "cell_type": "code",
   "execution_count": 159,
   "metadata": {
    "collapsed": true
   },
   "outputs": [],
   "source": [
    "hmm_reference = deepcopy(hmm_stamp)"
   ]
  },
  {
   "cell_type": "code",
   "execution_count": 160,
   "metadata": {
    "collapsed": false
   },
   "outputs": [
    {
     "name": "stdout",
     "output_type": "stream",
     "text": [
      "['M', 'M', 'L', 'L', 'S', 'S', 'M', 'M', 'L', 'M', 'L', 'S', 'S', 'S', 'M', 'L', 'S', 'M', 'S', 'S']\n"
     ]
    }
   ],
   "source": [
    "T = 1000\n",
    "X, Y = hmm_reference.simulate(T)\n",
    "print(Y[:20])"
   ]
  },
  {
   "cell_type": "code",
   "execution_count": 162,
   "metadata": {
    "collapsed": false,
    "scrolled": false
   },
   "outputs": [
    {
     "name": "stdout",
     "output_type": "stream",
     "text": [
      "Expected: \n",
      "[0.6, 0.4]\n",
      "[[0.7, 0.3], [0.4, 0.6]]\n",
      "[[0.1, 0.4, 0.5], [0.7, 0.2, 0.1]]\n",
      "\n",
      "Initial: \n",
      "[0.5070568611138777, 0.49294313888612223]\n",
      "[[0.49069498038294745, 0.5093050196170525],\n",
      " [0.5033638100548438, 0.49663618994515624]]\n",
      "[[0.3357496636761467, 0.35319056491427614, 0.3110597714095771],\n",
      " [0.3659355778530853, 0.3046356674324046, 0.32942875471451016]]\n",
      "iter #0 inf\n",
      "iter #1 1.0798947941186725\n",
      "iter #2 0.005448421421760941\n",
      "iter #3 0.0053534547319031844\n",
      "iter #4 0.00524763506018644\n",
      "iter #5 0.005131152436206321\n",
      "iter #6 0.00500418562660343\n",
      "iter #7 0.004867037340545721\n",
      "iter #8 0.004720250680975369\n",
      "iter #9 0.004564690768802393\n",
      "iter #10 0.004401581925094433\n",
      "iter #11 0.004232497997918472\n",
      "iter #12 0.004059310112552339\n",
      "iter #13 0.003884101556877795\n",
      "iter #14 0.0037090624803113315\n",
      "iter #15 0.003536378032549692\n",
      "iter #16 0.0033681224322208436\n",
      "iter #17 0.00320616869407786\n",
      "iter #18 0.003052120395750535\n",
      "iter #19 0.0029072681179513893\n",
      "iter #20 0.0027725704101158044\n",
      "iter #21 0.002648656354040213\n",
      "iter #22 0.0025358457414768054\n",
      "iter #23 0.0024341819191704417\n",
      "iter #24 0.0023434725733295636\n",
      "iter #25 0.002263334204144485\n",
      "iter #26 0.0021932367017143406\n",
      "iter #27 0.0021325455882106326\n",
      "iter #28 0.0020805599181130674\n",
      "iter #29 0.0020365450664030504\n",
      "iter #30 0.0019997598308236775\n",
      "iter #31 0.0019694779603014467\n",
      "iter #32 0.001945004490607971\n",
      "iter #33 0.0019256873599715618\n",
      "iter #34 0.0019109250949895795\n",
      "iter #35 0.001900171064562528\n",
      "iter #36 0.0018929351658698579\n",
      "iter #37 0.001888783352342216\n",
      "iter #38 0.0018873357091706566\n",
      "iter #39 0.0018882633753491973\n",
      "iter #40 0.0018912848418040085\n",
      "iter #41 0.001896161820695852\n",
      "iter #42 0.0019026949310045893\n",
      "iter #43 0.0019107195437300106\n",
      "iter #44 0.001920101577297828\n",
      "iter #45 0.001930733780909577\n",
      "iter #46 0.0019425321452217759\n",
      "iter #47 0.001955432745262442\n",
      "iter #48 0.001969388913266812\n",
      "iter #49 0.0019843687591674097\n",
      "iter #50 0.0020003530189569574\n",
      "iter #51 0.0020173332536614907\n",
      "iter #52 0.002035310270230184\n",
      "iter #53 0.002054292864158924\n",
      "iter #54 0.0020742967717524152\n",
      "iter #55 0.002095343820656126\n",
      "iter #56 0.002117461276384347\n",
      "iter #57 0.0021406812963959965\n",
      "iter #58 0.002165040657246209\n",
      "iter #59 0.0021905803585013928\n",
      "iter #60 0.0022173456006839842\n",
      "iter #61 0.0022453856388438\n",
      "iter #62 0.0022747538077965146\n",
      "iter #63 0.0023055076121636375\n",
      "iter #64 0.0023377088475626806\n",
      "iter #65 0.002371423768408931\n",
      "iter #66 0.0024067233757705253\n",
      "iter #67 0.00244368362291425\n",
      "iter #68 0.002482385824805533\n",
      "iter #69 0.0025229169650629046\n",
      "iter #70 0.0025653701434293907\n",
      "iter #71 0.0026098450546214735\n",
      "iter #72 0.002656448463085326\n",
      "iter #73 0.00270529482281745\n",
      "iter #74 0.0027565068562580564\n",
      "iter #75 0.002810216273246624\n",
      "iter #76 0.002866564528176241\n",
      "iter #77 0.002925703631262877\n",
      "iter #78 0.002987797081914323\n",
      "iter #79 0.003053020856668809\n",
      "iter #80 0.003121564548337119\n",
      "iter #81 0.003193632536294899\n",
      "iter #82 0.003269445368232482\n",
      "iter #83 0.0033492412137547944\n",
      "iter #84 0.0034332775289840356\n",
      "iter #85 0.0035218328123391984\n",
      "iter #86 0.0036152086413494544\n",
      "iter #87 0.0037137318838631472\n",
      "iter #88 0.003817757099568553\n",
      "iter #89 0.0039276693105421145\n",
      "iter #90 0.0040438869841636915\n",
      "iter #91 0.004166865390288876\n",
      "iter #92 0.004297100342228077\n",
      "iter #93 0.004435132309936307\n",
      "iter #94 0.004581551120054428\n",
      "iter #95 0.004737001072726343\n",
      "iter #96 0.004902186716435608\n",
      "iter #97 0.005077879355667392\n",
      "iter #98 0.005264924254788639\n",
      "iter #99 0.005464248765520097\n",
      "iter #100 0.0056768714487134275\n",
      "iter #101 0.005903912293206304\n",
      "iter #102 0.006146604263449262\n",
      "iter #103 0.006406306264352679\n",
      "iter #104 0.0066845177570939995\n",
      "iter #105 0.006982895301007375\n",
      "iter #106 0.007303271183445759\n",
      "iter #107 0.007647674567124341\n",
      "iter #108 0.00801835535094142\n",
      "iter #109 0.008417811291337784\n",
      "iter #110 0.008848818727983598\n",
      "iter #111 0.009314467467902432\n",
      "iter #112 0.009818200494919438\n",
      "iter #113 0.01036385904421877\n",
      "iter #114 0.010955733952869195\n",
      "iter #115 0.011598624138059677\n",
      "iter #116 0.012297903195985782\n",
      "iter #117 0.013059595273034574\n",
      "iter #118 0.013890461576920643\n",
      "iter #119 0.014798098878145538\n",
      "iter #120 0.01579105171254014\n",
      "iter #121 0.01687894005272028\n",
      "iter #122 0.018072604384315127\n",
      "iter #123 0.0193842702992697\n",
      "iter #124 0.02082773476422517\n",
      "iter #125 0.022418576289510384\n",
      "iter #126 0.0241743909964498\n",
      "iter #127 0.026115056436992745\n",
      "iter #128 0.02826302424705318\n",
      "iter #129 0.030643641783171915\n",
      "iter #130 0.03328550122000706\n",
      "iter #131 0.03622081214643913\n",
      "iter #132 0.03948578990457463\n",
      "iter #133 0.043121046810483676\n",
      "iter #134 0.04717196574983973\n",
      "iter #135 0.05168902557807087\n",
      "iter #136 0.05672803345896682\n",
      "iter #137 0.06235020106032607\n",
      "iter #138 0.06862197700388606\n",
      "iter #139 0.07561451762057914\n",
      "iter #140 0.08340264043818024\n",
      "iter #141 0.09206306140208653\n",
      "iter #142 0.10167166909013758\n",
      "iter #143 0.11229954354007532\n",
      "iter #144 0.12400739273766703\n",
      "iter #145 0.13683807408756365\n",
      "iter #146 0.15080691492948972\n",
      "iter #147 0.16588968116320757\n",
      "iter #148 0.18200830594446415\n",
      "iter #149 0.19901492559574763\n",
      "iter #150 0.21667540307407762\n",
      "iter #151 0.23465434390300288\n",
      "iter #152 0.2525045423467418\n",
      "iter #153 0.2696646558622433\n",
      "iter #154 0.285469387165449\n",
      "iter #155 0.2991761566254354\n",
      "iter #156 0.3100107651760027\n",
      "iter #157 0.317231629713433\n",
      "iter #158 0.32020793634865186\n",
      "iter #159 0.318502173070101\n",
      "iter #160 0.31194325277397184\n",
      "iter #161 0.3006745141190095\n",
      "iter #162 0.28516287728393763\n",
      "iter #163 0.26616200641046817\n",
      "iter #164 0.24463247515882358\n",
      "iter #165 0.22163274561307844\n",
      "iter #166 0.19820235058659819\n",
      "iter #167 0.1752599376670787\n",
      "iter #168 0.15353327521984284\n",
      "iter #169 0.13352838380501453\n",
      "iter #170 0.11553469262116778\n",
      "iter #171 0.09965603634236686\n",
      "iter #172 0.08585485375238022\n",
      "iter #173 0.07399844557585311\n",
      "iter #174 0.06389976016589571\n",
      "iter #175 0.0553490765528295\n",
      "iter #176 0.048135999118358086\n",
      "iter #177 0.04206299839620442\n",
      "iter #178 0.0369524784089208\n",
      "iter #179 0.03264938427332709\n",
      "iter #180 0.029021035247524196\n",
      "iter #181 0.025955430506428456\n",
      "iter #182 0.02335886545779431\n",
      "iter #183 0.021153373656943586\n",
      "iter #184 0.0192742805350008\n",
      "iter #185 0.017668006063559005\n",
      "iter #186 0.01629016430183583\n",
      "iter #187 0.015103957778819677\n",
      "iter #188 0.014078841042646673\n",
      "iter #189 0.013189418046749779\n",
      "iter #190 0.012414537002314319\n",
      "iter #191 0.01173654905278454\n",
      "iter #192 0.011140701305293987\n",
      "iter #193 0.010614639592859021\n",
      "iter #194 0.01014800045732045\n",
      "iter #195 0.009732075668125617\n",
      "iter #196 0.00935953589169003\n",
      "iter #197 0.009024202470982345\n",
      "iter #198 0.008720858592596414\n",
      "iter #199 0.008445092750434924\n",
      "iter #200 0.008193168607476764\n",
      "iter #201 0.007961916779777312\n",
      "iter #202 0.0077486445482009\n",
      "iter #203 0.007551060514515484\n",
      "iter #204 0.0073672115483987\n",
      "iter #205 0.007195430045157991\n",
      "iter #206 0.007034289671537408\n",
      "iter #207 0.006882568224682473\n",
      "iter #208 0.00673921641441666\n",
      "iter #209 0.006603331625683495\n",
      "iter #210 0.00647413575848077\n",
      "iter #211 0.0063509566307402565\n",
      "iter #212 0.006233212197003013\n",
      "iter #213 0.006120397266840882\n",
      "iter #214 0.006012072233033905\n",
      "iter #215 0.0059078536012293625\n",
      "iter #216 0.0058074058340480406\n",
      "iter #217 0.005710434583306778\n",
      "iter #218 0.005616680812181585\n",
      "iter #219 0.005525915880525645\n",
      "iter #220 0.005437937326860265\n",
      "iter #221 0.005352565278371912\n",
      "iter #222 0.005269639378639113\n",
      "iter #223 0.005189016196027296\n",
      "iter #224 0.005110566967687191\n",
      "iter #225 0.0050341757071237225\n",
      "iter #226 0.004959737520039198\n",
      "iter #227 0.004887157267148723\n",
      "iter #228 0.004816348275880955\n",
      "iter #229 0.004747231358805948\n",
      "iter #230 0.004679733885723181\n",
      "iter #231 0.004613789009226821\n",
      "iter #232 0.004549335008050548\n",
      "iter #233 0.004486314719770235\n",
      "iter #234 0.004424674981692078\n",
      "iter #235 0.004364366269101083\n",
      "iter #236 0.004305342261432088\n",
      "iter #237 0.004247559539180656\n",
      "iter #238 0.004190977274220131\n",
      "iter #239 0.004135557004701695\n",
      "iter #240 0.0040812623785768665\n",
      "iter #241 0.004028059003303497\n",
      "iter #242 0.003975914220063714\n",
      "iter #243 0.003924797012359704\n",
      "iter #244 0.0038746778127460857\n",
      "iter #245 0.003825528442803261\n",
      "iter #246 0.0037773219437440275\n",
      "iter #247 0.003730032563680652\n",
      "iter #248 0.0036836355820923927\n",
      "iter #249 0.0036381073171014577\n",
      "iter #250 0.0035934250006448565\n",
      "iter #251 0.003549566754827538\n",
      "iter #252 0.0035065114921053464\n",
      "iter #253 0.0034642389448436006\n",
      "iter #254 0.003422729525482282\n",
      "iter #255 0.0033819643495007767\n",
      "iter #256 0.0033419251979012188\n",
      "iter #257 0.003302594427168515\n",
      "iter #258 0.0032639550065596268\n",
      "iter #259 0.003225990440341775\n",
      "iter #260 0.003188684783708595\n",
      "iter #261 0.0031520225641088473\n",
      "iter #262 0.00311598880693964\n",
      "iter #263 0.0030805689909811917\n",
      "iter #264 0.0030457490324806713\n",
      "iter #265 0.003011515277421495\n",
      "iter #266 0.0029778544562759635\n",
      "iter #267 0.0029447536981024314\n",
      "iter #268 0.002912200505079454\n",
      "iter #269 0.0028801827281768055\n",
      "iter #270 0.002848688571475577\n",
      "iter #271 0.002817706566702327\n",
      "iter #272 0.0027872255475358543\n",
      "iter #273 0.0027572346846227447\n",
      "iter #274 0.002727723422140116\n",
      "iter #275 0.0026986815028067213\n",
      "iter #276 0.0026700989390064933\n",
      "iter #277 0.0026419660080136964\n",
      "iter #278 0.00261427324971919\n",
      "iter #279 0.002587011456853361\n",
      "iter #280 0.002560171649520271\n",
      "iter #281 0.00253374509884452\n",
      "iter #282 0.002507723285589236\n",
      "iter #283 0.0024820979274409183\n",
      "iter #284 0.0024568609262587415\n",
      "iter #285 0.0024320044246906036\n",
      "iter #286 0.002407520726592338\n",
      "iter #287 0.0023834023652398173\n",
      "iter #288 0.0023596420207923074\n",
      "iter #289 0.002336232601919619\n",
      "iter #290 0.0023131671484861727\n",
      "iter #291 0.002290438900445224\n",
      "iter #292 0.002268041248044028\n",
      "iter #293 0.002245967749331612\n",
      "iter #294 0.0022242121235649392\n",
      "iter #295 0.0022027682127827575\n",
      "iter #296 0.0021816300497903285\n",
      "iter #297 0.0021607917742585414\n",
      "iter #298 0.0021402476888852107\n",
      "iter #299 0.002119992210964483\n",
      "Trained: \n",
      "[1.0000000000000306, 6.791912957336673e-107]\n",
      "[[0.6701425319398144, 0.3298574680601854],\n",
      " [0.42819458719006964, 0.5718054128099289]]\n",
      "[[0.04357634707205276, 0.4265673904955613, 0.5298562624323866],\n",
      " [0.7393238865765701, 0.16529737493874, 0.09537873848468924]]\n",
      "\n"
     ]
    },
    {
     "data": {
      "image/png": "[encoded data removed]",
      "text/plain": [
       "<matplotlib.figure.Figure at 0x7fb26d0df7f0>"
      ]
     },
     "metadata": {},
     "output_type": "display_data"
    }
   ],
   "source": [
    "VERBOSITY = 4\n",
    "print('Expected: ')\n",
    "print(hmm_reference)\n",
    "print()\n",
    "# priors = create_stochastic_vector(len(S))\n",
    "# A = create_stochastic_matrix(len(S), len(S))\n",
    "# B = create_stochastic_matrix(len(S), len(Q))\n",
    "# priors = [0.5, 0.5]\n",
    "# A = [[0.5, 0.5],\n",
    "#      [0.5, 0.5]]\n",
    "# B = [[0.3, 0.3, 0.4],\n",
    "#      [0.2, 0.5, 0.3]]\n",
    "# for metric in [('P(Y)', 0.001), ('model', 0.0001)]:\n",
    "for metric in [('P(Y)', 0.0001)]:\n",
    "#     hmm_train = HMM(S, Q, priors, A, B)\n",
    "    hmm_train = HMM(hmm_reference.S, hmm_reference.Q, noise=1)\n",
    "    print('Initial: ')\n",
    "    print(hmm_train)\n",
    "    h = hmm_train.train(Y, metric=metric[0], eps=metric[1], max_iter=300)\n",
    "#     h = hmm_train.train(Y, metric=metric[0], max_iter=150)\n",
    "    print('Trained: ')\n",
    "    print(hmm_train)\n",
    "    print()\n",
    "    h.plot()"
   ]
  },
  {
   "cell_type": "code",
   "execution_count": 163,
   "metadata": {
    "collapsed": false
   },
   "outputs": [
    {
     "data": {
      "image/png": "[encoded data removed]",
      "text/plain": [
       "<matplotlib.figure.Figure at 0x7fb26e101198>"
      ]
     },
     "metadata": {},
     "output_type": "display_data"
    }
   ],
   "source": [
    "ax = h.plot()\n",
    "ax.legend()\n",
    "plt.xlabel('No. iteratrions')\n",
    "ax.figure.tight_layout(pad=0.1)\n",
    "ax.figure.savefig('test-stamp-random.pdf')"
   ]
  },
  {
   "cell_type": "markdown",
   "metadata": {},
   "source": [
    "#### Matrix diff"
   ]
  },
  {
   "cell_type": "code",
   "execution_count": 204,
   "metadata": {
    "collapsed": false,
    "scrolled": false
   },
   "outputs": [
    {
     "name": "stderr",
     "output_type": "stream",
     "text": [
      "/usr/lib/python3/dist-packages/matplotlib/collections.py:571: FutureWarning: elementwise comparison failed; returning scalar instead, but in the future will perform elementwise comparison\n",
      "  if self._edgecolors == str('face'):\n"
     ]
    },
    {
     "data": {
      "image/png": "[encoded data removed]",
      "text/plain": [
       "<matplotlib.figure.Figure at 0x7fb26cd1b470>"
      ]
     },
     "metadata": {},
     "output_type": "display_data"
    },
    {
     "name": "stdout",
     "output_type": "stream",
     "text": [
      "0.11610411050051161\n"
     ]
    },
    {
     "name": "stderr",
     "output_type": "stream",
     "text": [
      "/usr/lib/python3/dist-packages/matplotlib/collections.py:571: FutureWarning: elementwise comparison failed; returning scalar instead, but in the future will perform elementwise comparison\n",
      "  if self._edgecolors == str('face'):\n"
     ]
    },
    {
     "data": {
      "image/png": "[encoded data removed]",
      "text/plain": [
       "<matplotlib.figure.Figure at 0x7fb26ccfdbe0>"
      ]
     },
     "metadata": {},
     "output_type": "display_data"
    },
    {
     "name": "stdout",
     "output_type": "stream",
     "text": [
      "0.19149507900903606\n"
     ]
    }
   ],
   "source": [
    "plt.rcParams['figure.figsize'] = 2.9, 1.8   # 0.45\n",
    "\n",
    "import colormaps as cmaps\n",
    "\n",
    "for attr in ('A', 'B'):\n",
    "    fig, ax = plt.subplots()\n",
    "    diff = (getattr(hmm_train, attr) - getattr(hmm_reference, attr)).get_abs()\n",
    "    cax = ax.matshow(diff, cmap=cmaps.viridis, vmin=0, vmax=max(getattr(hmm_reference, attr))[0])\n",
    "#     plt.matshow(diff, fignum=100, cmap=cmaps.viridis, vmin=0, vmax=max(getattr(hmm_reference, attr))[0])\n",
    "#     ax.set_title('blah')\n",
    "    cbar = fig.colorbar(cax)\n",
    "    plt.tight_layout(pad=0.2)\n",
    "    plt.savefig('diff-%s.pdf' % attr)\n",
    "    plt.show()\n",
    "    print(diff.get_sum())\n",
    "#     print(sum(diff))\n",
    "\n",
    "# fig, axes = plt.subplots(nrows=1, ncols=2)\n",
    "# attrs = ('A', 'B')\n",
    "# for i in range(2):\n",
    "#     diff = (getattr(hmm_train, attrs[i]) - getattr(hmm_reference, attrs[i])).get_abs()\n",
    "#     im = axes.flat[i].matshow(diff, cmap=cmaps.viridis, vmin=0, vmax=max(getattr(hmm_reference, attr))[0])\n",
    "\n",
    "# plt.tight_layout()\n",
    "# fig.colorbar(im, ax=axes.ravel().tolist())\n",
    "\n",
    "\n",
    "# plt.savefig('diff-together.pdf')\n",
    "plt.show()"
   ]
  },
  {
   "cell_type": "markdown",
   "metadata": {},
   "source": [
    "#### State probability matches"
   ]
  },
  {
   "cell_type": "code",
   "execution_count": 165,
   "metadata": {
    "collapsed": false
   },
   "outputs": [
    {
     "data": {
      "image/png": "[encoded data removed]",
      "text/plain": [
       "<matplotlib.figure.Figure at 0x7fb26d351240>"
      ]
     },
     "metadata": {},
     "output_type": "display_data"
    }
   ],
   "source": [
    "plt.rcParams['figure.figsize'] = 4.5, 2.8   # 0.7\n",
    "plt.plot([hmm_train.mem['gamma'][t][hmm_train.S[0]] for t in range(T)], 'o', alpha=0.5)\n",
    "plt.ylim(-0.1, 1.1)\n",
    "plt.xlabel('Time step $t$')\n",
    "plt.ylabel(r'$\\gamma_t(s_0) = \\mathsf{P}(\\xi_t = s_0 \\mid Y)$')\n",
    "plt.tight_layout(pad=0.1)\n",
    "plt.savefig('state-dist.pdf')"
   ]
  },
  {
   "cell_type": "code",
   "execution_count": 183,
   "metadata": {
    "collapsed": false,
    "scrolled": true
   },
   "outputs": [
    {
     "data": {
      "image/png": "[encoded data removed]",
      "text/plain": [
       "<matplotlib.figure.Figure at 0x7fb26d00b400>"
      ]
     },
     "metadata": {},
     "output_type": "display_data"
    }
   ],
   "source": [
    "plt.plot([hmm_train.mem['gamma'][t][hmm_train.S[0]] for t in range(T)][:50], 'o', alpha=0.8, label=r'$\\lambda_\\mathrm{est}$')\n",
    "plt.plot((np.array(X)[:50] == hmm_train.S[0]), 'o', alpha=0.8, label=r'$\\lambda_\\mathrm{ref}$')\n",
    "plt.legend(numpoints=1)\n",
    "plt.ylim(-0.1, 1.1)\n",
    "plt.xlabel('Time step $t$')\n",
    "plt.ylabel(r'$\\gamma_t(s_0) = \\mathsf{P}(\\xi_t = s_0 \\mid Y)$')\n",
    "plt.tight_layout(pad=0.1)\n",
    "plt.savefig('state-comp.pdf')"
   ]
  },
  {
   "cell_type": "code",
   "execution_count": 190,
   "metadata": {
    "collapsed": false
   },
   "outputs": [
    {
     "data": {
      "text/plain": [
       "0.80500000000000005"
      ]
     },
     "execution_count": 190,
     "metadata": {},
     "output_type": "execute_result"
    }
   ],
   "source": [
    "state_0_dist = [hmm_train.mem['gamma'][t][hmm_train.S[0]] for t in range(T)]\n",
    "sum((np.array(X) == hmm_train.S[0]) ==\n",
    "    (np.array(state_0_dist) > 0.5)) / T"
   ]
  },
  {
   "cell_type": "code",
   "execution_count": 184,
   "metadata": {
    "collapsed": true
   },
   "outputs": [],
   "source": [
    "hmm_train.create_log_matrices()"
   ]
  },
  {
   "cell_type": "code",
   "execution_count": 188,
   "metadata": {
    "collapsed": false
   },
   "outputs": [
    {
     "data": {
      "text/plain": [
       "0.80500000000000005"
      ]
     },
     "execution_count": 188,
     "metadata": {},
     "output_type": "execute_result"
    }
   ],
   "source": [
    "sum(np.array(hmm_train.viterbi(Y)) == np.array(X)) / T"
   ]
  },
  {
   "cell_type": "markdown",
   "metadata": {},
   "source": [
    "### Marvin the Martian reads brown corpus"
   ]
  },
  {
   "cell_type": "code",
   "execution_count": null,
   "metadata": {
    "collapsed": false
   },
   "outputs": [],
   "source": [
    "import sys\n",
    "# import resource\n",
    "# resource.setrlimit(resource.RLIMIT_STACK, (2**29,-1))\n",
    "# sys.setrecursionlimit(10**6)\n",
    "\n",
    "corpus_path = '/home/xio/Projects/СПбГУ/Курсовая-5/brown_corpus/'\n",
    "\n",
    "Y = []\n",
    "\n",
    "for fname in ['A01', 'A02', 'A03', 'A04', 'A05']:\n",
    "    f = open(corpus_path + fname, 'r')\n",
    "    for line in f:\n",
    "        Y += [letter.lower() for letter in list(line[15:].strip())\n",
    "                if letter.isalpha() or letter == ' ']\n",
    "    f.close()\n",
    "\n",
    "Y = Y[:50000]\n",
    "print(Y[:10])\n",
    "\n",
    "import string\n",
    "Q = string.ascii_lowercase+' '\n",
    "S = ['V', 'C']      # vowel, consonant"
   ]
  },
  {
   "cell_type": "code",
   "execution_count": null,
   "metadata": {
    "collapsed": false
   },
   "outputs": [],
   "source": [
    "priors = [0.51316, 0.48684]\n",
    "A = [[0.47468, 0.52532],\n",
    "     [0.51656, 0.48344]]\n",
    "\n",
    "B = [[0.03735,0.03408,0.03455,0.03828,0.03782,0.03922,0.03688,0.03408,0.03875,0.04062,0.03735,0.03968,0.03548,0.03735,0.04062,0.03595,0.03641,0.03408,0.04062,0.03548,0.03922,0.04062,0.03455,0.03595,0.03408,0.03408,0.03688],\n",
    "     [0.03909,0.03537,0.03537,0.03909,0.03583,0.03630,0.04048,0.03537,0.03816,0.03909,0.03490,0.03723,0.03537,0.03909,0.03397,0.03397,0.03816,0.03676,0.04048,0.03443,0.03537,0.03955,0.03816,0.03723,0.03769,0.03955,0.03397]]\n",
    "\n",
    "hmm_marvin = HMM(S, Q, priors, A, B)\n",
    "\n",
    "VERBOSITY = 4\n",
    "\n",
    "# print(\"Initialized this HMM: \")\n",
    "# print(hmm_marvin)"
   ]
  },
  {
   "cell_type": "code",
   "execution_count": null,
   "metadata": {
    "collapsed": false
   },
   "outputs": [],
   "source": [
    "print(\"Training the model:\")\n",
    "%time h = hmm_marvin.baum_welch_step(Y)"
   ]
  },
  {
   "cell_type": "code",
   "execution_count": null,
   "metadata": {
    "collapsed": false
   },
   "outputs": [],
   "source": [
    "# for metric in ['P(Y)', 'model']:\n",
    "#     hmm_marvin = HMM(S, Q, priors, A, B)\n",
    "#     h = hmm_marvin.train(Y, metric=metric, max_iter=100)\n",
    "#     h.plot()\n",
    "hmm_marvin = HMM(S, Q, priors, A, B)\n",
    "h = hmm_marvin.train(Y, metric='P(Y)', max_iter=100)\n",
    "h.plot()"
   ]
  },
  {
   "cell_type": "code",
   "execution_count": null,
   "metadata": {
    "collapsed": false
   },
   "outputs": [],
   "source": [
    "df = pd.DataFrame(list(zip(*hmm_marvin.B)), columns=['V', 'C'], index=list(hmm_marvin.Q))\n",
    "ax = df.plot(kind='bar', stacked=True, figsize=(10, 8), fontsize=16)\n",
    "ax.tick_params(labelsize=14)"
   ]
  },
  {
   "cell_type": "code",
   "execution_count": null,
   "metadata": {
    "collapsed": false
   },
   "outputs": [],
   "source": [
    "ax.get_figure().savefig('a.svg')"
   ]
  },
  {
   "cell_type": "code",
   "execution_count": null,
   "metadata": {
    "collapsed": false
   },
   "outputs": [],
   "source": [
    "''.join(hmm_marvin.simulate(100)[1])"
   ]
  },
  {
   "cell_type": "code",
   "execution_count": null,
   "metadata": {
    "collapsed": false
   },
   "outputs": [],
   "source": [
    "s1 = ''.join(hmm_marvin.simulate(100)[1])\n",
    "s2 = ''.join(hmm_marvin.simulate(100)[1])\n",
    "print('%f, %f' % (math.log(hmm_marvin.pr_Y(s1)), math.log(hmm_marvin.pr_Y(s2))))"
   ]
  },
  {
   "cell_type": "code",
   "execution_count": null,
   "metadata": {
    "collapsed": false
   },
   "outputs": [],
   "source": [
    "random_s = ''.join(np.random.choice(list(string.ascii_lowercase + ' '), size=100))\n",
    "math.log(hmm_marvin.pr_Y(random_s))"
   ]
  },
  {
   "cell_type": "markdown",
   "metadata": {},
   "source": [
    "### Marvin the Martian reads Russian news"
   ]
  },
  {
   "cell_type": "code",
   "execution_count": 167,
   "metadata": {
    "collapsed": false
   },
   "outputs": [
    {
     "data": {
      "text/plain": [
       "'без единой тенденции закрылись торги на европейских рынках акций в ходе инцидента был застрелен граж'"
      ]
     },
     "execution_count": 167,
     "metadata": {},
     "output_type": "execute_result"
    }
   ],
   "source": [
    "import sys\n",
    "# import resource\n",
    "# resource.setrlimit(resource.RLIMIT_STACK, (2**29,-1))\n",
    "# sys.setrecursionlimit(10**6)\n",
    "\n",
    "corpus_path = '/home/xio/Projects/СПбГУ/Курсовая-5/ru_corpus/'\n",
    "\n",
    "Q = 'абвгдежзийклмнопрстуфхцчшщъыьэюя '\n",
    "S = ['C', 'V']      # vowel, consonant\n",
    "\n",
    "Y = []\n",
    "with open(corpus_path + 'news.2008.ru.shuffled', 'r') as f:\n",
    "    if len(Y) < 5 * 10**4:\n",
    "        for line in f:\n",
    "            Y += [letter.lower() for letter in list(line.strip())\n",
    "                  if letter.lower() in Q]\n",
    "            Y += ' '\n",
    "\n",
    "Y = Y[:50000]\n",
    "''.join(Y[:100])"
   ]
  },
  {
   "cell_type": "code",
   "execution_count": 169,
   "metadata": {
    "collapsed": false
   },
   "outputs": [],
   "source": [
    "hmm_marvin_ru = HMM(S, Q)\n",
    "\n",
    "VERBOSITY = 4\n",
    "\n",
    "# print(\"Initialized this HMM: \")\n",
    "# print(hmm_marvin_ru)"
   ]
  },
  {
   "cell_type": "code",
   "execution_count": 170,
   "metadata": {
    "collapsed": false
   },
   "outputs": [
    {
     "name": "stdout",
     "output_type": "stream",
     "text": [
      "Training the model:\n",
      "CPU times: user 13.7 s, sys: 40 ms, total: 13.8 s\n",
      "Wall time: 13.8 s\n"
     ]
    }
   ],
   "source": [
    "print(\"Training the model:\")\n",
    "%time h_ru = hmm_marvin_ru.baum_welch_step(Y)"
   ]
  },
  {
   "cell_type": "code",
   "execution_count": 171,
   "metadata": {
    "collapsed": false,
    "scrolled": false
   },
   "outputs": [
    {
     "name": "stdout",
     "output_type": "stream",
     "text": [
      "iter #0 inf\n",
      "iter #1 22368.901525961497\n",
      "iter #2 0.13830216496717185\n",
      "iter #3 0.18456179922213778\n",
      "iter #4 0.2531078083557077\n",
      "iter #5 0.3547279993945267\n",
      "iter #6 0.5064589176909067\n",
      "iter #7 0.7355718142352998\n",
      "iter #8 1.0863530835194979\n",
      "iter #9 1.6317736594646703\n",
      "iter #10 2.4938238840550184\n",
      "iter #11 3.8794585969590116\n",
      "iter #12 6.145266332809115\n",
      "iter #13 9.916516106430208\n",
      "iter #14 16.31303806460346\n",
      "iter #15 27.394694011978572\n",
      "iter #16 47.08021758164978\n",
      "iter #17 83.12331115652341\n",
      "iter #18 151.42407280983753\n",
      "iter #19 284.71151560594444\n",
      "iter #20 543.1648833995278\n",
      "iter #21 985.365400046343\n",
      "iter #22 1459.1219500960433\n",
      "iter #23 1419.9526737254637\n",
      "iter #24 845.5087573933997\n",
      "iter #25 434.7962928850029\n",
      "iter #26 275.80253926772275\n",
      "iter #27 198.70184678558144\n",
      "iter #28 148.136951168417\n",
      "iter #29 112.39022649658727\n",
      "iter #30 86.88414591387846\n",
      "iter #31 68.75248200626811\n",
      "iter #32 55.93405360728502\n",
      "iter #33 46.88460652530193\n",
      "iter #34 40.44636462070048\n",
      "iter #35 35.76008347669267\n",
      "iter #36 32.195465339842485\n",
      "iter #37 29.29853762802668\n",
      "iter #38 26.75301512988517\n",
      "iter #39 24.351119660859695\n",
      "iter #40 21.971036376897246\n",
      "iter #41 19.560614462388912\n",
      "iter #42 17.127327185764443\n",
      "iter #43 14.72836244100472\n",
      "iter #44 12.449203042895533\n",
      "iter #45 10.37166142751812\n",
      "iter #46 8.548858628229937\n",
      "iter #47 6.998412795423064\n",
      "iter #48 5.709328625351191\n",
      "iter #49 4.653410614730092\n",
      "iter #50 3.795490120741306\n",
      "iter #51 3.1004460418771487\n",
      "iter #52 2.537001751421485\n",
      "iter #53 2.079107232799288\n",
      "iter #54 1.7058727177791297\n",
      "iter #55 1.4008357588027138\n",
      "iter #56 1.1510593171988148\n",
      "iter #57 0.9463110053620767\n",
      "iter #58 0.7784096907998901\n",
      "iter #59 0.6407401639735326\n",
      "iter #60 0.52790390845621\n",
      "iter #61 0.4354670317552518\n",
      "iter #62 0.35977538125007413\n",
      "iter #63 0.2978142195788678\n",
      "iter #64 0.24709692297619767\n",
      "iter #65 0.20557584636844695\n",
      "iter #66 0.1715677444008179\n",
      "iter #67 0.14369192058802582\n",
      "iter #68 0.12081785529153422\n",
      "iter #69 0.10202208167174831\n",
      "iter #70 0.08655079200980254\n",
      "iter #71 0.07378999562934041\n",
      "iter #72 0.0632399700989481\n",
      "iter #73 0.05449406793923117\n",
      "iter #74 0.04722202103585005\n",
      "iter #75 0.041155238141072914\n",
      "iter #76 0.03607544145779684\n",
      "iter #77 0.03180531496764161\n",
      "iter #78 0.028200666507473215\n",
      "iter #79 0.02514414317556657\n",
      "iter #80 0.022540158446645364\n",
      "iter #81 0.02031093864934519\n",
      "iter #82 0.018392863508779556\n",
      "iter #83 0.016733966738684103\n",
      "iter #84 0.015291783667635173\n",
      "iter #85 0.014031394413905218\n",
      "iter #86 0.012924212671350688\n",
      "iter #87 0.011946548300329596\n",
      "iter #88 0.011078966432251036\n",
      "iter #89 0.010305286006769165\n",
      "iter #90 0.009612108377041295\n",
      "iter #91 0.008988256740849465\n",
      "iter #92 0.008424423082033172\n",
      "iter #93 0.007912766828667372\n",
      "iter #94 0.00744667969411239\n",
      "iter #95 0.0070205298834480345\n",
      "iter #96 0.006629731709836051\n",
      "iter #97 0.006270124664297327\n",
      "iter #98 0.005938300135312602\n",
      "iter #99 0.005631300155073404\n",
      "iter #100 0.005346509831724688\n",
      "iter #101 0.005081821873318404\n",
      "iter #102 0.004835161758819595\n",
      "iter #103 0.004604954156093299\n",
      "iter #104 0.00438960109022446\n",
      "iter #105 0.004187958140391856\n",
      "iter #106 0.003998693195171654\n",
      "iter #107 0.0038208641635719687\n",
      "iter #108 0.0036535625404212624\n",
      "iter #109 0.0034959144541062415\n",
      "iter #110 0.0033472042123321444\n",
      "iter #111 0.003206801164196804\n",
      "iter #112 0.003074020001804456\n",
      "iter #113 0.0029483967809937894\n",
      "iter #114 0.0028293989307712764\n",
      "iter #115 0.0027166185609530658\n",
      "iter #116 0.002609553630463779\n",
      "iter #117 0.0025079049228224903\n",
      "iter #118 0.0024113184481393546\n",
      "iter #119 0.002319445804459974\n",
      "iter #120 0.00223196460865438\n",
      "iter #121 0.0021487788762897253\n",
      "iter #122 0.0020694050181191415\n",
      "iter #123 0.0019937526085413992\n",
      "iter #124 0.001921589020639658\n",
      "iter #125 0.0018527066567912698\n",
      "iter #126 0.0017869126459117979\n",
      "iter #127 0.0017240442393813282\n",
      "iter #128 0.0016639601963106543\n",
      "iter #129 0.0016065026866272092\n",
      "iter #130 0.001551538414787501\n",
      "iter #131 0.0014989075134508312\n",
      "iter #132 0.0014485115243587643\n",
      "iter #133 0.0014002859825268388\n",
      "iter #134 0.0013540730287786573\n",
      "iter #135 0.0013097987393848598\n",
      "iter #136 0.001267328450921923\n",
      "iter #137 0.0012266389385331422\n",
      "iter #138 0.001187623740406707\n",
      "iter #139 0.001150234864326194\n",
      "iter #140 0.001114373531891033\n",
      "iter #141 0.0010799654119182378\n",
      "iter #142 0.0010469785775057971\n",
      "iter #143 0.00101534413988702\n",
      "iter #144 0.0009850349742919207\n",
      "iter #145 0.0009559898171573877\n",
      "iter #146 0.000928139517782256\n",
      "iter #147 0.0009014701936393976\n",
      "iter #148 0.0008759329793974757\n",
      "iter #149 0.0008514762739650905\n"
     ]
    },
    {
     "data": {
      "text/plain": [
       "<matplotlib.axes._subplots.AxesSubplot at 0x7effa29d7a58>"
      ]
     },
     "execution_count": 171,
     "metadata": {},
     "output_type": "execute_result"
    },
    {
     "data": {
      "image/png": "[encoded data removed]",
      "text/plain": [
       "<matplotlib.figure.Figure at 0x7effa41e2be0>"
      ]
     },
     "metadata": {},
     "output_type": "display_data"
    }
   ],
   "source": [
    "hmm_marvin_ru = HMM(S, Q)\n",
    "h_ru = hmm_marvin_ru.train(Y, metric='P(Y)', eps=0.0001, max_iter=150)\n",
    "h_ru.plot()"
   ]
  },
  {
   "cell_type": "code",
   "execution_count": 175,
   "metadata": {
    "collapsed": false,
    "scrolled": false
   },
   "outputs": [
    {
     "data": {
      "image/png": "[encoded data removed]",
      "text/plain": [
       "<matplotlib.figure.Figure at 0x7effa47f4f28>"
      ]
     },
     "metadata": {},
     "output_type": "display_data"
    }
   ],
   "source": [
    "# df = pd.DataFrame(list(zip(*hmm_marvin_ru2.B)), columns=(hmm_marvin_ru2.S), index=list(hmm_marvin_ru2.Q))\n",
    "df = pd.DataFrame(list(zip(*hmm_marvin_ru.B)), columns=(['C', 'V']), index=list(hmm_marvin_ru.Q))\n",
    "ax = df.plot(kind='bar', stacked=True)\n",
    "ax.figure.tight_layout(pad=0.1)\n",
    "ax.figure.savefig('marvin_ru.pdf')"
   ]
  },
  {
   "cell_type": "code",
   "execution_count": null,
   "metadata": {
    "collapsed": false
   },
   "outputs": [],
   "source": [
    "''.join(hmm_marvin_ru.simulate(100)[1])"
   ]
  }
 ],
 "metadata": {
  "kernelspec": {
   "display_name": "Python 3",
   "language": "python",
   "name": "python3"
  },
  "language_info": {
   "codemirror_mode": {
    "name": "ipython",
    "version": 3
   },
   "file_extension": ".py",
   "mimetype": "text/x-python",
   "name": "python",
   "nbconvert_exporter": "python",
   "pygments_lexer": "ipython3",
   "version": "3.4.3+"
  }
 },
 "nbformat": 4,
 "nbformat_minor": 0
}
